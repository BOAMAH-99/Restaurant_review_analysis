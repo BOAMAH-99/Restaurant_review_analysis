{
 "cells": [
  {
   "cell_type": "markdown",
   "id": "ccb1f7e2",
   "metadata": {},
   "source": [
    "## DATA CLEANING PROJECT"
   ]
  },
  {
   "cell_type": "markdown",
   "id": "2b17a35b",
   "metadata": {},
   "source": [
    "This project focuses on cleaning and preparing a raw dataset for accurate analysis and database integration. The dataset contained various quality issues, including irrelevant columns, incorrect data types, ambiguous headings, duplicates, missing values, and inconsistent inputs.\n",
    "\n",
    "The objective was to systematically address these issues, extract relevant information, and structure the data for both analysis and storage in a MySQL database. The cleaned dataset now serves as a reliable foundation for deriving insights and supporting data-driven decision-making"
   ]
  },
  {
   "cell_type": "code",
   "execution_count": null,
   "id": "0e269a10",
   "metadata": {},
   "outputs": [],
   "source": [
    "import pandas as pd\n",
    "import numpy as np\n",
    "import re\n",
    "\n",
    "zomato_original = pd.read_csv(r\"C:\\Users\\MICHAEL KODUA BOAMAH\\Desktop\\Zomato_data_cleaning\\Dataset\\Raw_dataset.csv\")\n",
    "\n",
    "df = zomato_original.copy()"
   ]
  },
  {
   "cell_type": "markdown",
   "id": "8297a398",
   "metadata": {},
   "source": [
    "Before initiating the cleaning process, the dataset was examined to understand its structure, content, and potential quality issues. This involved reviewing column names, data types, value ranges, sample records, and overall completeness to identify areas requiring preprocessing and transformation"
   ]
  },
  {
   "cell_type": "code",
   "execution_count": 2,
   "id": "17f8d763",
   "metadata": {},
   "outputs": [
    {
     "data": {
      "application/vnd.microsoft.datawrangler.viewer.v0+json": {
       "columns": [
        {
         "name": "index",
         "rawType": "int64",
         "type": "integer"
        },
        {
         "name": "url",
         "rawType": "object",
         "type": "string"
        },
        {
         "name": "address",
         "rawType": "object",
         "type": "string"
        },
        {
         "name": "name",
         "rawType": "object",
         "type": "string"
        },
        {
         "name": "online_order",
         "rawType": "object",
         "type": "string"
        },
        {
         "name": "book_table",
         "rawType": "object",
         "type": "string"
        },
        {
         "name": "rate",
         "rawType": "object",
         "type": "string"
        },
        {
         "name": "votes",
         "rawType": "int64",
         "type": "integer"
        },
        {
         "name": "phone",
         "rawType": "object",
         "type": "string"
        },
        {
         "name": "location",
         "rawType": "object",
         "type": "string"
        },
        {
         "name": "rest_type",
         "rawType": "object",
         "type": "string"
        },
        {
         "name": "dish_liked",
         "rawType": "object",
         "type": "string"
        },
        {
         "name": "cuisines",
         "rawType": "object",
         "type": "string"
        },
        {
         "name": "approx_cost(for two people)",
         "rawType": "object",
         "type": "string"
        },
        {
         "name": "reviews_list",
         "rawType": "object",
         "type": "string"
        },
        {
         "name": "menu_item",
         "rawType": "object",
         "type": "string"
        },
        {
         "name": "listed_in(type)",
         "rawType": "object",
         "type": "string"
        },
        {
         "name": "listed_in(city)",
         "rawType": "object",
         "type": "string"
        }
       ],
       "ref": "400ea758-256d-4c91-9f78-6b8ea813d483",
       "rows": [
        [
         "0",
         "https://www.zomato.com/bangalore/jalsa-banashankari?context=eyJzZSI6eyJlIjpbNTg2OTQsIjE4Mzc1NDc0IiwiNTkwOTAiLCIxODM4Mjk0NCIsIjE4MjI0Njc2IiwiNTkyODkiLCIxODM3MzM4NiJdLCJ0IjoiUmVzdGF1cmFudHMgaW4gQmFuYXNoYW5rYXJpIHNlcnZpbmcgQnVmZmV0In19",
         "942, 21st Main Road, 2nd Stage, Banashankari, Bangalore",
         "Jalsa",
         "Yes",
         "Yes",
         "4.1/5",
         "775",
         "080 42297555\r\n+91 9743772233",
         "Banashankari",
         "Casual Dining",
         "Pasta, Lunch Buffet, Masala Papad, Paneer Lajawab, Tomato Shorba, Dum Biryani, Sweet Corn Soup",
         "North Indian, Mughlai, Chinese",
         "800",
         "[('Rated 4.0', 'RATED\\n  A beautiful place to dine in.The interiors take you back to the Mughal era. The lightings are just perfect.We went there on the occasion of Christmas and so they had only limited items available. But the taste and service was not compromised at all.The only complaint is that the breads could have been better.Would surely like to come here again.'), ('Rated 4.0', 'RATED\\n  I was here for dinner with my family on a weekday. The restaurant was completely empty. Ambience is good with some good old hindi music. Seating arrangement are good too. We ordered masala papad, panner and baby corn starters, lemon and corrionder soup, butter roti, olive and chilli paratha. Food was fresh and good, service is good too. Good for family hangout.\\nCheers'), ('Rated 2.0', 'RATED\\n  Its a restaurant near to Banashankari BDA. Me along with few of my office friends visited to have buffet but unfortunately they only provide veg buffet. On inquiring they said this place is mostly visited by vegetarians. Anyways we ordered ala carte items which took ages to come. Food was ok ok. Definitely not visiting anymore.'), ('Rated 4.0', 'RATED\\n  We went here on a weekend and one of us had the buffet while two of us took Ala Carte. Firstly the ambience and service of this place is great! The buffet had a lot of items and the good was good. We had a Pumpkin Halwa intm the dessert which was amazing. Must try! The kulchas are great here. Cheers!'), ('Rated 5.0', 'RATED\\n  The best thing about the place is itÃ\\x83Ã\\x83Ã\\x82Ã\\x82Ã\\x83Ã\\x82Ã\\x82Ã\\x92s ambiance. Second best thing was yummy ? food. We try buffet and buffet food was not disappointed us.\\nTest ?. ?? ?? ?? ?? ??\\nQuality ?. ??????????.\\nService: Staff was very professional and friendly.\\n\\nOverall experience was excellent.\\n\\nsubirmajumder85.wixsite.com'), ('Rated 5.0', 'RATED\\n  Great food and pleasant ambience. Expensive but Coll place to chill and relax......\\n\\nService is really very very good and friendly staff...\\n\\nFood : 5/5\\nService : 5/5\\nAmbience :5/5\\nOverall :5/5'), ('Rated 4.0', 'RATED\\n  Good ambience with tasty food.\\nCheese chilli paratha with Bhutta palak methi curry is a good combo.\\nLemon Chicken in the starters is a must try item.\\nEgg fried rice was also quite tasty.\\nIn the mocktails, recommend \"Alice in Junoon\". Do not miss it.'), ('Rated 4.0', 'RATED\\n  You canÃ\\x83Ã\\x83Ã\\x82Ã\\x82Ã\\x83Ã\\x82Ã\\x82Ã\\x92t go wrong with Jalsa. Never been a fan of their buffet and thus always order alacarteÃ\\x83Ã\\x83Ã\\x82Ã\\x82Ã\\x83Ã\\x82Ã\\x82Ã\\x92. Service at times can be on the slower side but food is worth the wait.'), ('Rated 5.0', 'RATED\\n  Overdelighted by the service and food provided at this place. A royal and ethnic atmosphere builds a strong essence of being in India and also the quality and taste of food is truly authentic. I would totally recommend to visit this place once.'), ('Rated 4.0', 'RATED\\n  The place is nice and comfortable. Food wise all jalea outlets maintain a good standard. The soya chaap was a standout dish. Clearly one of trademark dish as per me and a must try.\\n\\nThe only concern is the parking. It very congested and limited to just 5cars. The basement parking is very steep and makes it cumbersome'), ('Rated 4.0', 'RATED\\n  The place is nice and comfortable. Food wise all jalea outlets maintain a good standard. The soya chaap was a standout dish. Clearly one of trademark dish as per me and a must try.\\n\\nThe only concern is the parking. It very congested and limited to just 5cars. The basement parking is very steep and makes it cumbersome'), ('Rated 4.0', 'RATED\\n  The place is nice and comfortable. Food wise all jalea outlets maintain a good standard. The soya chaap was a standout dish. Clearly one of trademark dish as per me and a must try.\\n\\nThe only concern is the parking. It very congested and limited to just 5cars. The basement parking is very steep and makes it cumbersome')]",
         "[]",
         "Buffet",
         "Banashankari"
        ],
        [
         "1",
         "https://www.zomato.com/bangalore/spice-elephant-banashankari?context=eyJzZSI6eyJlIjpbIjU4Njk0IiwxODM3NTQ3NCwiNTkwOTAiLCIxODM4Mjk0NCIsIjE4MjI0Njc2IiwiNTkyODkiLCIxODM3MzM4NiJdLCJ0IjoiUmVzdGF1cmFudHMgaW4gQmFuYXNoYW5rYXJpIHNlcnZpbmcgQnVmZmV0In19",
         "2nd Floor, 80 Feet Road, Near Big Bazaar, 6th Block, Kathriguppe, 3rd Stage, Banashankari, Bangalore",
         "Spice Elephant",
         "Yes",
         "No",
         "4.1/5",
         "787",
         "080 41714161",
         "Banashankari",
         "Casual Dining",
         "Momos, Lunch Buffet, Chocolate Nirvana, Thai Green Curry, Paneer Tikka, Dum Biryani, Chicken Biryani",
         "Chinese, North Indian, Thai",
         "800",
         "[('Rated 4.0', 'RATED\\n  Had been here for dinner with family. Turned out to be a good choose suitable for all ages of people. Can try this place. We liked the most was their starters. Service is good. Prices are affordable. Will recommend this restaurant for early dinner. The place is little noisy.'), ('Rated 3.0', 'RATED\\n  The ambience is really nice, staff is courteous. The price is pretty high for the quantity, but overall the experience was fine. The quality of food is nice but nothing extraordinary. They also have buffet(only veg)'), ('Rated 3.0', 'RATED\\n  I felt good is little expensive for the quantity they serve and In terms of taste is decent. There is nothing much to talk about the ambience, regular casual dining restaurant where you can take your family for dinner or lunch. If they improve on that quantity or may be reduce the price a bit or may be improve the presentation of the food it might Manage to get more repeat customers.'), ('Rated 4.0', 'RATED\\n  I was looking for a quite place to spend some time with family and as well wanted to try some new place. Since I was at Banashankari I thought of trying this place. The place had good rating and was part of Zomato gold. So I decided to try this place. It was a delite to see a very friendly staff and food we ordered was very tasty as well.\\n\\nFood : 4/5\\nAmbience :3/5\\nFriendly staff : 4/5\\nPocket friendly : 4/5\\n\\nWill definitely visit again ??'), ('Rated 4.0', \"RATED\\n  Nice place to dine and has a good ambiance... Food is good and the serving time is also good..neat restrooms and we'll arranged tables....only thing is we went at 12.30 for lunch...and we noticed that they kept on playing one music back to back which was a little annoying...\\n\\n1. Chicken biriyani was so good and the chicken was fresh and tender ,rice was well cooked and overall was great\\n\\n2. Mutton biriyani was very very good and tasty and It had plenty of mutton pieces...\"), ('Rated 5.0', 'RATED\\n  This place just cool ? with good ambience and slow music and having delicious food is where you find peace. Staff very friendly and they have maintained the place so clean. The price is average for what the quantity of food they serve.\\nThom yum Thai soup was best and was treat to mouth, roti was soft with that vilaythi paneer was perfect to have for veggie foodies, in rice we tried burnt garlic fried rice with vegetables and it was the perfect thing to end.'), ('Rated 4.0', \"RATED\\n  Quiet a good family type of place.. too calm and usually we don't find crowd here.. panner curry and the deserts is what we had tasted.. they wer really good but we found it a little expensive\"), ('Rated 2.0', \"RATED\\n  I had a very bad experience here.\\nI don't know about a la carte, but the buffet was the worst. They gave us complementary drink and momos before the buffet. The momos were really good.\\nThe number of varieties first of all was very disappointing. The service was very slow. They refilled the food very slowly. The starters were okay. The main course also was so so. There was two gravies with roti and some rice with raitha. They had chats, sev puri and pan puri, which was average. But the desert was disappointing. They had gulab Jamun and chocolate cake. The jamun was not cooked inside. There was a cold blob of raw dough inside. The chocolate cake also was really hard and not that good.\\nOverall the buffet was a bad experience for me.\"), ('Rated 4.0', \"RATED\\n  Food: 8/10\\nAmbience:8/10\\nStaff:8/10\\nOne of the good places to try north Indian food...but depends on ur taste buds. Not everyone will like all the items here. Specially when u r particular abt sweet and spicy food.\\nThere's buffet available too.\\nWe had ordered paneer uttar dakshin and paneer kurchan..was amazing. The Gobi hara pyaz and mix veg were average.\"), ('Rated 3.0', 'RATED\\n  A decent place for a family lunch or dinner.. well arranged in a simple manner. Food was tasty and the crew was very helpful and understanding..'), ('Rated 4.0', \"RATED\\n  Great place to have a heavy lunch. Good service.\\nThe chicken biryani was undoubtedly one of the best I've had. Biriyani and Lassi would be the suggested combo. Buffet is the talk of the place, so try according to your appetite. A nice place.\"), ('Rated 4.0', 'RATED\\n  Its the one restaurant near katriguppe that i found was really good. Good variety of Chinese and thai dishes. Service is good and good place to hangout with family as its a peaceful place where noise is really less and good view.'), ('Rated 2.0', \"RATED\\n  Spice elephant soup SPL: almost manchow flavour soup.. Just above medium spicy\\n\\nLasooni fish tikka was awesome\\n\\nI don't remember the dessert name but I have attached the photo .. It had vanilla ice inside wafers... Wafer was hell hard, egg smell chewy ... Nightmare dessert !\\n\\nTable leg space was very bad... I was so uncomfortable, the whole time kept on adjusting my legs\\n\\nNo parking\\n\\nFor the taste felt this is too costly\"), ('Rated 4.0', 'RATED\\n  Zomato gold partner at this price. It was insane. They have really nice food. small place with very courteous staff and very cheap food for this ambience. Cost of soups is 80-100. Starters from 150-250. Main course 200-300. Cost for two was 800 for us.')]",
         "[]",
         "Buffet",
         "Banashankari"
        ]
       ],
       "shape": {
        "columns": 17,
        "rows": 2
       }
      },
      "text/html": [
       "<div>\n",
       "<style scoped>\n",
       "    .dataframe tbody tr th:only-of-type {\n",
       "        vertical-align: middle;\n",
       "    }\n",
       "\n",
       "    .dataframe tbody tr th {\n",
       "        vertical-align: top;\n",
       "    }\n",
       "\n",
       "    .dataframe thead th {\n",
       "        text-align: right;\n",
       "    }\n",
       "</style>\n",
       "<table border=\"1\" class=\"dataframe\">\n",
       "  <thead>\n",
       "    <tr style=\"text-align: right;\">\n",
       "      <th></th>\n",
       "      <th>url</th>\n",
       "      <th>address</th>\n",
       "      <th>name</th>\n",
       "      <th>online_order</th>\n",
       "      <th>book_table</th>\n",
       "      <th>rate</th>\n",
       "      <th>votes</th>\n",
       "      <th>phone</th>\n",
       "      <th>location</th>\n",
       "      <th>rest_type</th>\n",
       "      <th>dish_liked</th>\n",
       "      <th>cuisines</th>\n",
       "      <th>approx_cost(for two people)</th>\n",
       "      <th>reviews_list</th>\n",
       "      <th>menu_item</th>\n",
       "      <th>listed_in(type)</th>\n",
       "      <th>listed_in(city)</th>\n",
       "    </tr>\n",
       "  </thead>\n",
       "  <tbody>\n",
       "    <tr>\n",
       "      <th>0</th>\n",
       "      <td>https://www.zomato.com/bangalore/jalsa-banasha...</td>\n",
       "      <td>942, 21st Main Road, 2nd Stage, Banashankari, ...</td>\n",
       "      <td>Jalsa</td>\n",
       "      <td>Yes</td>\n",
       "      <td>Yes</td>\n",
       "      <td>4.1/5</td>\n",
       "      <td>775</td>\n",
       "      <td>080 42297555\\r\\n+91 9743772233</td>\n",
       "      <td>Banashankari</td>\n",
       "      <td>Casual Dining</td>\n",
       "      <td>Pasta, Lunch Buffet, Masala Papad, Paneer Laja...</td>\n",
       "      <td>North Indian, Mughlai, Chinese</td>\n",
       "      <td>800</td>\n",
       "      <td>[('Rated 4.0', 'RATED\\n  A beautiful place to ...</td>\n",
       "      <td>[]</td>\n",
       "      <td>Buffet</td>\n",
       "      <td>Banashankari</td>\n",
       "    </tr>\n",
       "    <tr>\n",
       "      <th>1</th>\n",
       "      <td>https://www.zomato.com/bangalore/spice-elephan...</td>\n",
       "      <td>2nd Floor, 80 Feet Road, Near Big Bazaar, 6th ...</td>\n",
       "      <td>Spice Elephant</td>\n",
       "      <td>Yes</td>\n",
       "      <td>No</td>\n",
       "      <td>4.1/5</td>\n",
       "      <td>787</td>\n",
       "      <td>080 41714161</td>\n",
       "      <td>Banashankari</td>\n",
       "      <td>Casual Dining</td>\n",
       "      <td>Momos, Lunch Buffet, Chocolate Nirvana, Thai G...</td>\n",
       "      <td>Chinese, North Indian, Thai</td>\n",
       "      <td>800</td>\n",
       "      <td>[('Rated 4.0', 'RATED\\n  Had been here for din...</td>\n",
       "      <td>[]</td>\n",
       "      <td>Buffet</td>\n",
       "      <td>Banashankari</td>\n",
       "    </tr>\n",
       "  </tbody>\n",
       "</table>\n",
       "</div>"
      ],
      "text/plain": [
       "                                                 url  \\\n",
       "0  https://www.zomato.com/bangalore/jalsa-banasha...   \n",
       "1  https://www.zomato.com/bangalore/spice-elephan...   \n",
       "\n",
       "                                             address            name  \\\n",
       "0  942, 21st Main Road, 2nd Stage, Banashankari, ...           Jalsa   \n",
       "1  2nd Floor, 80 Feet Road, Near Big Bazaar, 6th ...  Spice Elephant   \n",
       "\n",
       "  online_order book_table   rate  votes                           phone  \\\n",
       "0          Yes        Yes  4.1/5    775  080 42297555\\r\\n+91 9743772233   \n",
       "1          Yes         No  4.1/5    787                    080 41714161   \n",
       "\n",
       "       location      rest_type  \\\n",
       "0  Banashankari  Casual Dining   \n",
       "1  Banashankari  Casual Dining   \n",
       "\n",
       "                                          dish_liked  \\\n",
       "0  Pasta, Lunch Buffet, Masala Papad, Paneer Laja...   \n",
       "1  Momos, Lunch Buffet, Chocolate Nirvana, Thai G...   \n",
       "\n",
       "                         cuisines approx_cost(for two people)  \\\n",
       "0  North Indian, Mughlai, Chinese                         800   \n",
       "1     Chinese, North Indian, Thai                         800   \n",
       "\n",
       "                                        reviews_list menu_item  \\\n",
       "0  [('Rated 4.0', 'RATED\\n  A beautiful place to ...        []   \n",
       "1  [('Rated 4.0', 'RATED\\n  Had been here for din...        []   \n",
       "\n",
       "  listed_in(type) listed_in(city)  \n",
       "0          Buffet    Banashankari  \n",
       "1          Buffet    Banashankari  "
      ]
     },
     "execution_count": 2,
     "metadata": {},
     "output_type": "execute_result"
    }
   ],
   "source": [
    "df.head(2)"
   ]
  },
  {
   "cell_type": "code",
   "execution_count": 3,
   "id": "2e771b80",
   "metadata": {},
   "outputs": [
    {
     "data": {
      "text/plain": [
       "(51717, 17)"
      ]
     },
     "execution_count": 3,
     "metadata": {},
     "output_type": "execute_result"
    }
   ],
   "source": [
    "df.shape"
   ]
  },
  {
   "cell_type": "code",
   "execution_count": 4,
   "id": "db44573a",
   "metadata": {},
   "outputs": [
    {
     "data": {
      "application/vnd.microsoft.datawrangler.viewer.v0+json": {
       "columns": [
        {
         "name": "index",
         "rawType": "object",
         "type": "string"
        },
        {
         "name": "0",
         "rawType": "object",
         "type": "unknown"
        }
       ],
       "ref": "25c5294b-366d-497a-be3f-4df37cc06107",
       "rows": [
        [
         "url",
         "object"
        ],
        [
         "address",
         "object"
        ],
        [
         "name",
         "object"
        ],
        [
         "online_order",
         "object"
        ],
        [
         "book_table",
         "object"
        ],
        [
         "rate",
         "object"
        ],
        [
         "votes",
         "int64"
        ],
        [
         "phone",
         "object"
        ],
        [
         "location",
         "object"
        ],
        [
         "rest_type",
         "object"
        ],
        [
         "dish_liked",
         "object"
        ],
        [
         "cuisines",
         "object"
        ],
        [
         "approx_cost(for two people)",
         "object"
        ],
        [
         "reviews_list",
         "object"
        ],
        [
         "menu_item",
         "object"
        ],
        [
         "listed_in(type)",
         "object"
        ],
        [
         "listed_in(city)",
         "object"
        ]
       ],
       "shape": {
        "columns": 1,
        "rows": 17
       }
      },
      "text/plain": [
       "url                            object\n",
       "address                        object\n",
       "name                           object\n",
       "online_order                   object\n",
       "book_table                     object\n",
       "rate                           object\n",
       "votes                           int64\n",
       "phone                          object\n",
       "location                       object\n",
       "rest_type                      object\n",
       "dish_liked                     object\n",
       "cuisines                       object\n",
       "approx_cost(for two people)    object\n",
       "reviews_list                   object\n",
       "menu_item                      object\n",
       "listed_in(type)                object\n",
       "listed_in(city)                object\n",
       "dtype: object"
      ]
     },
     "execution_count": 4,
     "metadata": {},
     "output_type": "execute_result"
    }
   ],
   "source": [
    "df.dtypes"
   ]
  },
  {
   "cell_type": "code",
   "execution_count": 5,
   "id": "197a1909",
   "metadata": {},
   "outputs": [
    {
     "data": {
      "text/plain": [
       "Index(['url', 'address', 'name', 'online_order', 'book_table', 'rate', 'votes',\n",
       "       'phone', 'location', 'rest_type', 'dish_liked', 'cuisines',\n",
       "       'approx_cost(for two people)', 'reviews_list', 'menu_item',\n",
       "       'listed_in(type)', 'listed_in(city)'],\n",
       "      dtype='object')"
      ]
     },
     "execution_count": 5,
     "metadata": {},
     "output_type": "execute_result"
    }
   ],
   "source": [
    "df.columns"
   ]
  },
  {
   "cell_type": "markdown",
   "id": "fd435c98",
   "metadata": {},
   "source": [
    "This section details the process of transforming the raw dataset into a clean, structured, and analysis-ready format. The cleaning tasks addressed issues such as irrelevant columns, incorrect data types, ambiguous column headings, duplicates, missing values, and inconsistent inputs. Additional steps included extracting relevant information from the “Review List\" column\n",
    "\n",
    "To ensure the dataset is clean and consistent, each column will be reviewed and cleaned individually. This process will address inconsistencies, improve usability, and prepare the data for reliable analytical work"
   ]
  },
  {
   "cell_type": "markdown",
   "id": "fea24129",
   "metadata": {},
   "source": [
    "After review, I will be dropping columns: url, phone and menu_item for now"
   ]
  },
  {
   "cell_type": "code",
   "execution_count": 11,
   "id": "94145755",
   "metadata": {},
   "outputs": [
    {
     "data": {
      "text/plain": [
       "['address',\n",
       " 'name',\n",
       " 'online_order',\n",
       " 'book_table',\n",
       " 'rate',\n",
       " 'votes',\n",
       " 'location',\n",
       " 'rest_type',\n",
       " 'dish_liked',\n",
       " 'cuisines',\n",
       " 'approx_cost(for two people)',\n",
       " 'reviews_list',\n",
       " 'listed_in(type)',\n",
       " 'listed_in(city)']"
      ]
     },
     "execution_count": 11,
     "metadata": {},
     "output_type": "execute_result"
    }
   ],
   "source": [
    "df.drop(columns=[\"url\", \"phone\", \"menu_item\"], inplace=True)\n",
    "df.columns.tolist()"
   ]
  },
  {
   "cell_type": "code",
   "execution_count": 12,
   "id": "7f51794a",
   "metadata": {},
   "outputs": [],
   "source": [
    "df.rename(columns={\n",
    "    \"rate\": 'table_booking_rating',\n",
    "    \"name\": \"restaurant_name\",\n",
    "    \"approx_cost(for two people)\" : \"approx_cost_for_two\",\n",
    "    \"listed_in(type)\" : \"service_type\",\n",
    "    \"listed_in(city)\" : \"listed_city\"\n",
    "}, inplace=True)"
   ]
  },
  {
   "cell_type": "code",
   "execution_count": 13,
   "id": "2d19be41",
   "metadata": {},
   "outputs": [
    {
     "data": {
      "text/plain": [
       "Index(['Address', 'Restaurant_name', 'Online_order', 'Book_table',\n",
       "       'Table_booking_rating', 'Votes', 'Location', 'Rest_type', 'Dish_liked',\n",
       "       'Cuisines', 'Approx_cost_for_two', 'Reviews_list', 'Service_type',\n",
       "       'Listed_city'],\n",
       "      dtype='object')"
      ]
     },
     "execution_count": 13,
     "metadata": {},
     "output_type": "execute_result"
    }
   ],
   "source": [
    "df.columns = df.columns.str.capitalize()\n",
    "df.columns"
   ]
  },
  {
   "cell_type": "code",
   "execution_count": 15,
   "id": "f287d93e",
   "metadata": {},
   "outputs": [
    {
     "data": {
      "text/plain": [
       "np.int64(50)"
      ]
     },
     "execution_count": 15,
     "metadata": {},
     "output_type": "execute_result"
    }
   ],
   "source": [
    "df.duplicated().sum()"
   ]
  },
  {
   "cell_type": "code",
   "execution_count": 16,
   "id": "74364ba9",
   "metadata": {},
   "outputs": [],
   "source": [
    "df.drop_duplicates(inplace=True)"
   ]
  },
  {
   "cell_type": "code",
   "execution_count": 17,
   "id": "2ce46516",
   "metadata": {},
   "outputs": [
    {
     "data": {
      "application/vnd.microsoft.datawrangler.viewer.v0+json": {
       "columns": [
        {
         "name": "index",
         "rawType": "object",
         "type": "string"
        },
        {
         "name": "0",
         "rawType": "int64",
         "type": "integer"
        }
       ],
       "ref": "c463af16-6182-4c26-9035-1307316b6e35",
       "rows": [
        [
         "Address",
         "0"
        ],
        [
         "Restaurant_name",
         "0"
        ],
        [
         "Online_order",
         "0"
        ],
        [
         "Book_table",
         "0"
        ],
        [
         "Table_booking_rating",
         "7765"
        ],
        [
         "Votes",
         "0"
        ],
        [
         "Location",
         "21"
        ],
        [
         "Rest_type",
         "227"
        ],
        [
         "Dish_liked",
         "28041"
        ],
        [
         "Cuisines",
         "45"
        ],
        [
         "Approx_cost_for_two",
         "345"
        ],
        [
         "Reviews_list",
         "0"
        ],
        [
         "Service_type",
         "0"
        ],
        [
         "Listed_city",
         "0"
        ]
       ],
       "shape": {
        "columns": 1,
        "rows": 14
       }
      },
      "text/plain": [
       "Address                     0\n",
       "Restaurant_name             0\n",
       "Online_order                0\n",
       "Book_table                  0\n",
       "Table_booking_rating     7765\n",
       "Votes                       0\n",
       "Location                   21\n",
       "Rest_type                 227\n",
       "Dish_liked              28041\n",
       "Cuisines                   45\n",
       "Approx_cost_for_two       345\n",
       "Reviews_list                0\n",
       "Service_type                0\n",
       "Listed_city                 0\n",
       "dtype: int64"
      ]
     },
     "execution_count": 17,
     "metadata": {},
     "output_type": "execute_result"
    }
   ],
   "source": [
    "df.isnull().sum()"
   ]
  },
  {
   "cell_type": "code",
   "execution_count": 18,
   "id": "f81de1eb",
   "metadata": {},
   "outputs": [
    {
     "data": {
      "application/vnd.microsoft.datawrangler.viewer.v0+json": {
       "columns": [
        {
         "name": "index",
         "rawType": "object",
         "type": "string"
        },
        {
         "name": "0",
         "rawType": "object",
         "type": "unknown"
        }
       ],
       "ref": "7a077518-bfe6-4c8c-b58e-e2a9e8fb9d51",
       "rows": [
        [
         "Address",
         "object"
        ],
        [
         "Restaurant_name",
         "object"
        ],
        [
         "Online_order",
         "object"
        ],
        [
         "Book_table",
         "object"
        ],
        [
         "Table_booking_rating",
         "object"
        ],
        [
         "Votes",
         "int64"
        ],
        [
         "Location",
         "object"
        ],
        [
         "Rest_type",
         "object"
        ],
        [
         "Dish_liked",
         "object"
        ],
        [
         "Cuisines",
         "object"
        ],
        [
         "Approx_cost_for_two",
         "object"
        ],
        [
         "Reviews_list",
         "object"
        ],
        [
         "Service_type",
         "object"
        ],
        [
         "Listed_city",
         "object"
        ]
       ],
       "shape": {
        "columns": 1,
        "rows": 14
       }
      },
      "text/plain": [
       "Address                 object\n",
       "Restaurant_name         object\n",
       "Online_order            object\n",
       "Book_table              object\n",
       "Table_booking_rating    object\n",
       "Votes                    int64\n",
       "Location                object\n",
       "Rest_type               object\n",
       "Dish_liked              object\n",
       "Cuisines                object\n",
       "Approx_cost_for_two     object\n",
       "Reviews_list            object\n",
       "Service_type            object\n",
       "Listed_city             object\n",
       "dtype: object"
      ]
     },
     "execution_count": 18,
     "metadata": {},
     "output_type": "execute_result"
    }
   ],
   "source": [
    "df.dtypes"
   ]
  },
  {
   "cell_type": "code",
   "execution_count": 19,
   "id": "40b5d38d",
   "metadata": {},
   "outputs": [],
   "source": [
    "df['Table_booking_rating'] = df[\"Table_booking_rating\"].astype(str).str.extract(r\"(\\d+\\.\\d+|\\d+)\").astype(float)"
   ]
  },
  {
   "cell_type": "code",
   "execution_count": 20,
   "id": "6e674670",
   "metadata": {},
   "outputs": [],
   "source": [
    "df[\"Approx_cost_for_two\"] = pd.to_numeric(\n",
    "    df[\"Approx_cost_for_two\"].str.replace(\",\", \"\", regex=False), \n",
    "    errors=\"coerce\"\n",
    ").astype(\"Int64\")"
   ]
  },
  {
   "cell_type": "code",
   "execution_count": 21,
   "id": "a6f486ec",
   "metadata": {},
   "outputs": [],
   "source": [
    "df['Reviews_list'] = df['Reviews_list'].astype(str).str.extract(r'Rated\\s*([\\d.]+)').astype(float)"
   ]
  },
  {
   "cell_type": "code",
   "execution_count": 22,
   "id": "e21dbfcf",
   "metadata": {},
   "outputs": [
    {
     "data": {
      "application/vnd.microsoft.datawrangler.viewer.v0+json": {
       "columns": [
        {
         "name": "index",
         "rawType": "int64",
         "type": "integer"
        },
        {
         "name": "Address",
         "rawType": "object",
         "type": "string"
        },
        {
         "name": "Restaurant_name",
         "rawType": "object",
         "type": "string"
        },
        {
         "name": "Online_order",
         "rawType": "object",
         "type": "string"
        },
        {
         "name": "Book_table",
         "rawType": "object",
         "type": "string"
        },
        {
         "name": "Table_booking_rating",
         "rawType": "float64",
         "type": "float"
        },
        {
         "name": "Votes",
         "rawType": "int64",
         "type": "integer"
        },
        {
         "name": "Location",
         "rawType": "object",
         "type": "string"
        },
        {
         "name": "Rest_type",
         "rawType": "object",
         "type": "string"
        },
        {
         "name": "Dish_liked",
         "rawType": "object",
         "type": "string"
        },
        {
         "name": "Cuisines",
         "rawType": "object",
         "type": "string"
        },
        {
         "name": "Approx_cost_for_two",
         "rawType": "Int64",
         "type": "integer"
        },
        {
         "name": "Reviews_list",
         "rawType": "float64",
         "type": "float"
        },
        {
         "name": "Service_type",
         "rawType": "object",
         "type": "string"
        },
        {
         "name": "Listed_city",
         "rawType": "object",
         "type": "string"
        }
       ],
       "ref": "4fa0c69a-0176-4ec6-8b1b-adb885788fda",
       "rows": [
        [
         "0",
         "942, 21st Main Road, 2nd Stage, Banashankari, Bangalore",
         "Jalsa",
         "Yes",
         "Yes",
         "4.1",
         "775",
         "Banashankari",
         "Casual Dining",
         "Pasta, Lunch Buffet, Masala Papad, Paneer Lajawab, Tomato Shorba, Dum Biryani, Sweet Corn Soup",
         "North Indian, Mughlai, Chinese",
         "800",
         "4.0",
         "Buffet",
         "Banashankari"
        ],
        [
         "1",
         "2nd Floor, 80 Feet Road, Near Big Bazaar, 6th Block, Kathriguppe, 3rd Stage, Banashankari, Bangalore",
         "Spice Elephant",
         "Yes",
         "No",
         "4.1",
         "787",
         "Banashankari",
         "Casual Dining",
         "Momos, Lunch Buffet, Chocolate Nirvana, Thai Green Curry, Paneer Tikka, Dum Biryani, Chicken Biryani",
         "Chinese, North Indian, Thai",
         "800",
         "4.0",
         "Buffet",
         "Banashankari"
        ]
       ],
       "shape": {
        "columns": 14,
        "rows": 2
       }
      },
      "text/html": [
       "<div>\n",
       "<style scoped>\n",
       "    .dataframe tbody tr th:only-of-type {\n",
       "        vertical-align: middle;\n",
       "    }\n",
       "\n",
       "    .dataframe tbody tr th {\n",
       "        vertical-align: top;\n",
       "    }\n",
       "\n",
       "    .dataframe thead th {\n",
       "        text-align: right;\n",
       "    }\n",
       "</style>\n",
       "<table border=\"1\" class=\"dataframe\">\n",
       "  <thead>\n",
       "    <tr style=\"text-align: right;\">\n",
       "      <th></th>\n",
       "      <th>Address</th>\n",
       "      <th>Restaurant_name</th>\n",
       "      <th>Online_order</th>\n",
       "      <th>Book_table</th>\n",
       "      <th>Table_booking_rating</th>\n",
       "      <th>Votes</th>\n",
       "      <th>Location</th>\n",
       "      <th>Rest_type</th>\n",
       "      <th>Dish_liked</th>\n",
       "      <th>Cuisines</th>\n",
       "      <th>Approx_cost_for_two</th>\n",
       "      <th>Reviews_list</th>\n",
       "      <th>Service_type</th>\n",
       "      <th>Listed_city</th>\n",
       "    </tr>\n",
       "  </thead>\n",
       "  <tbody>\n",
       "    <tr>\n",
       "      <th>0</th>\n",
       "      <td>942, 21st Main Road, 2nd Stage, Banashankari, ...</td>\n",
       "      <td>Jalsa</td>\n",
       "      <td>Yes</td>\n",
       "      <td>Yes</td>\n",
       "      <td>4.1</td>\n",
       "      <td>775</td>\n",
       "      <td>Banashankari</td>\n",
       "      <td>Casual Dining</td>\n",
       "      <td>Pasta, Lunch Buffet, Masala Papad, Paneer Laja...</td>\n",
       "      <td>North Indian, Mughlai, Chinese</td>\n",
       "      <td>800</td>\n",
       "      <td>4.0</td>\n",
       "      <td>Buffet</td>\n",
       "      <td>Banashankari</td>\n",
       "    </tr>\n",
       "    <tr>\n",
       "      <th>1</th>\n",
       "      <td>2nd Floor, 80 Feet Road, Near Big Bazaar, 6th ...</td>\n",
       "      <td>Spice Elephant</td>\n",
       "      <td>Yes</td>\n",
       "      <td>No</td>\n",
       "      <td>4.1</td>\n",
       "      <td>787</td>\n",
       "      <td>Banashankari</td>\n",
       "      <td>Casual Dining</td>\n",
       "      <td>Momos, Lunch Buffet, Chocolate Nirvana, Thai G...</td>\n",
       "      <td>Chinese, North Indian, Thai</td>\n",
       "      <td>800</td>\n",
       "      <td>4.0</td>\n",
       "      <td>Buffet</td>\n",
       "      <td>Banashankari</td>\n",
       "    </tr>\n",
       "  </tbody>\n",
       "</table>\n",
       "</div>"
      ],
      "text/plain": [
       "                                             Address Restaurant_name  \\\n",
       "0  942, 21st Main Road, 2nd Stage, Banashankari, ...           Jalsa   \n",
       "1  2nd Floor, 80 Feet Road, Near Big Bazaar, 6th ...  Spice Elephant   \n",
       "\n",
       "  Online_order Book_table  Table_booking_rating  Votes      Location  \\\n",
       "0          Yes        Yes                   4.1    775  Banashankari   \n",
       "1          Yes         No                   4.1    787  Banashankari   \n",
       "\n",
       "       Rest_type                                         Dish_liked  \\\n",
       "0  Casual Dining  Pasta, Lunch Buffet, Masala Papad, Paneer Laja...   \n",
       "1  Casual Dining  Momos, Lunch Buffet, Chocolate Nirvana, Thai G...   \n",
       "\n",
       "                         Cuisines  Approx_cost_for_two  Reviews_list  \\\n",
       "0  North Indian, Mughlai, Chinese                  800           4.0   \n",
       "1     Chinese, North Indian, Thai                  800           4.0   \n",
       "\n",
       "  Service_type   Listed_city  \n",
       "0       Buffet  Banashankari  \n",
       "1       Buffet  Banashankari  "
      ]
     },
     "execution_count": 22,
     "metadata": {},
     "output_type": "execute_result"
    }
   ],
   "source": [
    "df.head(2)"
   ]
  },
  {
   "cell_type": "code",
   "execution_count": 23,
   "id": "caa1cc40",
   "metadata": {},
   "outputs": [],
   "source": [
    "df.rename(columns={\n",
    "    \"Table_booking_rating\": 'Book_table_rating',\n",
    "    \"Reviews_list\" : \"Experience_rating\"\n",
    "}, inplace=True)"
   ]
  },
  {
   "cell_type": "code",
   "execution_count": 24,
   "id": "6c557a23",
   "metadata": {},
   "outputs": [
    {
     "data": {
      "application/vnd.microsoft.datawrangler.viewer.v0+json": {
       "columns": [
        {
         "name": "index",
         "rawType": "object",
         "type": "string"
        },
        {
         "name": "0",
         "rawType": "object",
         "type": "unknown"
        }
       ],
       "ref": "e10f0355-31de-4760-992c-126fbf462b25",
       "rows": [
        [
         "Address",
         "object"
        ],
        [
         "Restaurant_name",
         "object"
        ],
        [
         "Online_order",
         "object"
        ],
        [
         "Book_table",
         "object"
        ],
        [
         "Book_table_rating",
         "float64"
        ],
        [
         "Votes",
         "int64"
        ],
        [
         "Location",
         "object"
        ],
        [
         "Rest_type",
         "object"
        ],
        [
         "Dish_liked",
         "object"
        ],
        [
         "Cuisines",
         "object"
        ],
        [
         "Approx_cost_for_two",
         "Int64"
        ],
        [
         "Experience_rating",
         "float64"
        ],
        [
         "Service_type",
         "object"
        ],
        [
         "Listed_city",
         "object"
        ]
       ],
       "shape": {
        "columns": 1,
        "rows": 14
       }
      },
      "text/plain": [
       "Address                 object\n",
       "Restaurant_name         object\n",
       "Online_order            object\n",
       "Book_table              object\n",
       "Book_table_rating      float64\n",
       "Votes                    int64\n",
       "Location                object\n",
       "Rest_type               object\n",
       "Dish_liked              object\n",
       "Cuisines                object\n",
       "Approx_cost_for_two      Int64\n",
       "Experience_rating      float64\n",
       "Service_type            object\n",
       "Listed_city             object\n",
       "dtype: object"
      ]
     },
     "execution_count": 24,
     "metadata": {},
     "output_type": "execute_result"
    }
   ],
   "source": [
    "df.dtypes"
   ]
  },
  {
   "cell_type": "code",
   "execution_count": 25,
   "id": "42420aa7",
   "metadata": {},
   "outputs": [
    {
     "data": {
      "application/vnd.microsoft.datawrangler.viewer.v0+json": {
       "columns": [
        {
         "name": "index",
         "rawType": "object",
         "type": "string"
        },
        {
         "name": "0",
         "rawType": "int64",
         "type": "integer"
        }
       ],
       "ref": "0565d612-04d0-4d45-8db8-38551b94d67c",
       "rows": [
        [
         "Address",
         "0"
        ],
        [
         "Restaurant_name",
         "0"
        ],
        [
         "Online_order",
         "0"
        ],
        [
         "Book_table",
         "0"
        ],
        [
         "Book_table_rating",
         "10033"
        ],
        [
         "Votes",
         "0"
        ],
        [
         "Location",
         "21"
        ],
        [
         "Rest_type",
         "227"
        ],
        [
         "Dish_liked",
         "28041"
        ],
        [
         "Cuisines",
         "45"
        ],
        [
         "Approx_cost_for_two",
         "345"
        ],
        [
         "Experience_rating",
         "7585"
        ],
        [
         "Service_type",
         "0"
        ],
        [
         "Listed_city",
         "0"
        ]
       ],
       "shape": {
        "columns": 1,
        "rows": 14
       }
      },
      "text/plain": [
       "Address                    0\n",
       "Restaurant_name            0\n",
       "Online_order               0\n",
       "Book_table                 0\n",
       "Book_table_rating      10033\n",
       "Votes                      0\n",
       "Location                  21\n",
       "Rest_type                227\n",
       "Dish_liked             28041\n",
       "Cuisines                  45\n",
       "Approx_cost_for_two      345\n",
       "Experience_rating       7585\n",
       "Service_type               0\n",
       "Listed_city                0\n",
       "dtype: int64"
      ]
     },
     "execution_count": 25,
     "metadata": {},
     "output_type": "execute_result"
    }
   ],
   "source": [
    "df.isna().sum()"
   ]
  },
  {
   "cell_type": "markdown",
   "id": "08089aa1",
   "metadata": {},
   "source": [
    "I will use the Missingno library to visualize the distribution of missing values across the dataset, providing a clear overview of data completeness and helping to identify columns that require cleaning"
   ]
  },
  {
   "cell_type": "code",
   "execution_count": 26,
   "id": "7b5872e2",
   "metadata": {},
   "outputs": [
    {
     "data": {
      "text/plain": [
       "<Axes: >"
      ]
     },
     "execution_count": 26,
     "metadata": {},
     "output_type": "execute_result"
    },
    {
     "data": {
      "image/png": "[encoded data removed]",
      "text/plain": [
       "<Figure size 2500x1000 with 2 Axes>"
      ]
     },
     "metadata": {},
     "output_type": "display_data"
    }
   ],
   "source": [
    "import missingno as msno\n",
    "msno.matrix(df)"
   ]
  },
  {
   "cell_type": "markdown",
   "id": "639faa6e",
   "metadata": {},
   "source": [
    "Although the Dish_liked column contains a high proportion of missing values, it will still be included in the investigation to assess whether the blanks have any relationship with other variables, such as Service_rating. Understanding these patterns could provide valuable insights for formulating targeted recommendations and strategies"
   ]
  },
  {
   "cell_type": "code",
   "execution_count": 27,
   "id": "c64e7230",
   "metadata": {},
   "outputs": [],
   "source": [
    "df[\"Dish_liked_input\"] = df['Dish_liked'].isna()"
   ]
  },
  {
   "cell_type": "code",
   "execution_count": 28,
   "id": "1f7f9606",
   "metadata": {},
   "outputs": [],
   "source": [
    "df[\"Dish_liked\"] = df[\"Dish_liked\"].fillna(\"Not Provided\")"
   ]
  },
  {
   "cell_type": "code",
   "execution_count": 29,
   "id": "699ef1c4",
   "metadata": {},
   "outputs": [
    {
     "name": "stdout",
     "output_type": "stream",
     "text": [
      "['Address', 'Restaurant_name', 'Online_order', 'Book_table', 'Book_table_rating', 'Votes', 'Location', 'Rest_type', 'Dish_liked', 'Cuisines', 'Approx_cost_for_two', 'Experience_rating', 'Service_type', 'Listed_city', 'Dish_liked_input']\n"
     ]
    }
   ],
   "source": [
    "cols = list(df.columns)\n",
    "\n",
    "print(cols)"
   ]
  },
  {
   "cell_type": "code",
   "execution_count": 30,
   "id": "b883da44",
   "metadata": {},
   "outputs": [],
   "source": [
    "dish_index = cols.index(\"Dish_liked\")"
   ]
  },
  {
   "cell_type": "code",
   "execution_count": 31,
   "id": "db22f5cc",
   "metadata": {},
   "outputs": [],
   "source": [
    "cols.remove(\"Dish_liked_input\")"
   ]
  },
  {
   "cell_type": "code",
   "execution_count": 32,
   "id": "5344e8d0",
   "metadata": {},
   "outputs": [],
   "source": [
    "cols.insert(dish_index + 1, \"Dish_liked_input\")"
   ]
  },
  {
   "cell_type": "code",
   "execution_count": 33,
   "id": "02505daa",
   "metadata": {},
   "outputs": [],
   "source": [
    "df = df[cols]"
   ]
  },
  {
   "cell_type": "code",
   "execution_count": 34,
   "id": "6a78918f",
   "metadata": {},
   "outputs": [
    {
     "data": {
      "application/vnd.microsoft.datawrangler.viewer.v0+json": {
       "columns": [
        {
         "name": "index",
         "rawType": "int64",
         "type": "integer"
        },
        {
         "name": "Address",
         "rawType": "object",
         "type": "string"
        },
        {
         "name": "Restaurant_name",
         "rawType": "object",
         "type": "string"
        },
        {
         "name": "Online_order",
         "rawType": "object",
         "type": "string"
        },
        {
         "name": "Book_table",
         "rawType": "object",
         "type": "string"
        },
        {
         "name": "Book_table_rating",
         "rawType": "float64",
         "type": "float"
        },
        {
         "name": "Votes",
         "rawType": "int64",
         "type": "integer"
        },
        {
         "name": "Location",
         "rawType": "object",
         "type": "string"
        },
        {
         "name": "Rest_type",
         "rawType": "object",
         "type": "string"
        },
        {
         "name": "Dish_liked",
         "rawType": "object",
         "type": "string"
        },
        {
         "name": "Dish_liked_input",
         "rawType": "bool",
         "type": "boolean"
        },
        {
         "name": "Cuisines",
         "rawType": "object",
         "type": "string"
        },
        {
         "name": "Approx_cost_for_two",
         "rawType": "Int64",
         "type": "integer"
        },
        {
         "name": "Experience_rating",
         "rawType": "float64",
         "type": "float"
        },
        {
         "name": "Service_type",
         "rawType": "object",
         "type": "string"
        },
        {
         "name": "Listed_city",
         "rawType": "object",
         "type": "string"
        }
       ],
       "ref": "098a9b00-401d-4bf9-b449-383f942737cf",
       "rows": [
        [
         "0",
         "942, 21st Main Road, 2nd Stage, Banashankari, Bangalore",
         "Jalsa",
         "Yes",
         "Yes",
         "4.1",
         "775",
         "Banashankari",
         "Casual Dining",
         "Pasta, Lunch Buffet, Masala Papad, Paneer Lajawab, Tomato Shorba, Dum Biryani, Sweet Corn Soup",
         "False",
         "North Indian, Mughlai, Chinese",
         "800",
         "4.0",
         "Buffet",
         "Banashankari"
        ],
        [
         "1",
         "2nd Floor, 80 Feet Road, Near Big Bazaar, 6th Block, Kathriguppe, 3rd Stage, Banashankari, Bangalore",
         "Spice Elephant",
         "Yes",
         "No",
         "4.1",
         "787",
         "Banashankari",
         "Casual Dining",
         "Momos, Lunch Buffet, Chocolate Nirvana, Thai Green Curry, Paneer Tikka, Dum Biryani, Chicken Biryani",
         "False",
         "Chinese, North Indian, Thai",
         "800",
         "4.0",
         "Buffet",
         "Banashankari"
        ]
       ],
       "shape": {
        "columns": 15,
        "rows": 2
       }
      },
      "text/html": [
       "<div>\n",
       "<style scoped>\n",
       "    .dataframe tbody tr th:only-of-type {\n",
       "        vertical-align: middle;\n",
       "    }\n",
       "\n",
       "    .dataframe tbody tr th {\n",
       "        vertical-align: top;\n",
       "    }\n",
       "\n",
       "    .dataframe thead th {\n",
       "        text-align: right;\n",
       "    }\n",
       "</style>\n",
       "<table border=\"1\" class=\"dataframe\">\n",
       "  <thead>\n",
       "    <tr style=\"text-align: right;\">\n",
       "      <th></th>\n",
       "      <th>Address</th>\n",
       "      <th>Restaurant_name</th>\n",
       "      <th>Online_order</th>\n",
       "      <th>Book_table</th>\n",
       "      <th>Book_table_rating</th>\n",
       "      <th>Votes</th>\n",
       "      <th>Location</th>\n",
       "      <th>Rest_type</th>\n",
       "      <th>Dish_liked</th>\n",
       "      <th>Dish_liked_input</th>\n",
       "      <th>Cuisines</th>\n",
       "      <th>Approx_cost_for_two</th>\n",
       "      <th>Experience_rating</th>\n",
       "      <th>Service_type</th>\n",
       "      <th>Listed_city</th>\n",
       "    </tr>\n",
       "  </thead>\n",
       "  <tbody>\n",
       "    <tr>\n",
       "      <th>0</th>\n",
       "      <td>942, 21st Main Road, 2nd Stage, Banashankari, ...</td>\n",
       "      <td>Jalsa</td>\n",
       "      <td>Yes</td>\n",
       "      <td>Yes</td>\n",
       "      <td>4.1</td>\n",
       "      <td>775</td>\n",
       "      <td>Banashankari</td>\n",
       "      <td>Casual Dining</td>\n",
       "      <td>Pasta, Lunch Buffet, Masala Papad, Paneer Laja...</td>\n",
       "      <td>False</td>\n",
       "      <td>North Indian, Mughlai, Chinese</td>\n",
       "      <td>800</td>\n",
       "      <td>4.0</td>\n",
       "      <td>Buffet</td>\n",
       "      <td>Banashankari</td>\n",
       "    </tr>\n",
       "    <tr>\n",
       "      <th>1</th>\n",
       "      <td>2nd Floor, 80 Feet Road, Near Big Bazaar, 6th ...</td>\n",
       "      <td>Spice Elephant</td>\n",
       "      <td>Yes</td>\n",
       "      <td>No</td>\n",
       "      <td>4.1</td>\n",
       "      <td>787</td>\n",
       "      <td>Banashankari</td>\n",
       "      <td>Casual Dining</td>\n",
       "      <td>Momos, Lunch Buffet, Chocolate Nirvana, Thai G...</td>\n",
       "      <td>False</td>\n",
       "      <td>Chinese, North Indian, Thai</td>\n",
       "      <td>800</td>\n",
       "      <td>4.0</td>\n",
       "      <td>Buffet</td>\n",
       "      <td>Banashankari</td>\n",
       "    </tr>\n",
       "  </tbody>\n",
       "</table>\n",
       "</div>"
      ],
      "text/plain": [
       "                                             Address Restaurant_name  \\\n",
       "0  942, 21st Main Road, 2nd Stage, Banashankari, ...           Jalsa   \n",
       "1  2nd Floor, 80 Feet Road, Near Big Bazaar, 6th ...  Spice Elephant   \n",
       "\n",
       "  Online_order Book_table  Book_table_rating  Votes      Location  \\\n",
       "0          Yes        Yes                4.1    775  Banashankari   \n",
       "1          Yes         No                4.1    787  Banashankari   \n",
       "\n",
       "       Rest_type                                         Dish_liked  \\\n",
       "0  Casual Dining  Pasta, Lunch Buffet, Masala Papad, Paneer Laja...   \n",
       "1  Casual Dining  Momos, Lunch Buffet, Chocolate Nirvana, Thai G...   \n",
       "\n",
       "   Dish_liked_input                        Cuisines  Approx_cost_for_two  \\\n",
       "0             False  North Indian, Mughlai, Chinese                  800   \n",
       "1             False     Chinese, North Indian, Thai                  800   \n",
       "\n",
       "   Experience_rating Service_type   Listed_city  \n",
       "0                4.0       Buffet  Banashankari  \n",
       "1                4.0       Buffet  Banashankari  "
      ]
     },
     "execution_count": 34,
     "metadata": {},
     "output_type": "execute_result"
    }
   ],
   "source": [
    "df.head(2)"
   ]
  },
  {
   "cell_type": "markdown",
   "id": "b9c07fc2",
   "metadata": {},
   "source": [
    "Examining the distribution of Book_table_rating to determine the most appropriate method for handling its missing values."
   ]
  },
  {
   "cell_type": "code",
   "execution_count": 35,
   "id": "7c2eec7b",
   "metadata": {},
   "outputs": [
    {
     "data": {
      "image/png": "[encoded data removed]",
      "text/plain": [
       "<Figure size 640x480 with 1 Axes>"
      ]
     },
     "metadata": {},
     "output_type": "display_data"
    }
   ],
   "source": [
    "import seaborn as sns\n",
    "import matplotlib.pyplot as plt\n",
    "\n",
    "sns.boxplot(x=df[\"Book_table_rating\"])\n",
    "plt.show()"
   ]
  },
  {
   "cell_type": "code",
   "execution_count": 36,
   "id": "45c80fd4",
   "metadata": {},
   "outputs": [
    {
     "name": "stdout",
     "output_type": "stream",
     "text": [
      "Mean: 3.7004659653168086\n",
      "Median: 3.7\n"
     ]
    }
   ],
   "source": [
    "print(\"Mean:\", df[\"Book_table_rating\"].mean())\n",
    "print(\"Median:\", df[\"Book_table_rating\"].median())"
   ]
  },
  {
   "cell_type": "markdown",
   "id": "412e3817",
   "metadata": {},
   "source": [
    "After calculating the mean and median, and analyzing the data distribution using a box plot, I have chosen to impute the missing values in the Table_booking_rating column with the median. This approach was selected despite the presence of a few outliers, as the median provides a more robust measure of central tendency less affected by these extreme values"
   ]
  },
  {
   "cell_type": "code",
   "execution_count": 37,
   "id": "d39de69e",
   "metadata": {},
   "outputs": [],
   "source": [
    "df[\"Book_table_rating\"] = df[\"Book_table_rating\"].fillna(df[\"Book_table_rating\"].median())"
   ]
  },
  {
   "cell_type": "markdown",
   "id": "8036a69b",
   "metadata": {},
   "source": [
    "Examining the distribution of Experience_rating to determine the most appropriate method for handling its missing values."
   ]
  },
  {
   "cell_type": "code",
   "execution_count": 38,
   "id": "e438f223",
   "metadata": {},
   "outputs": [
    {
     "data": {
      "image/png": "[encoded data removed]",
      "text/plain": [
       "<Figure size 640x480 with 1 Axes>"
      ]
     },
     "metadata": {},
     "output_type": "display_data"
    }
   ],
   "source": [
    "import seaborn as sns\n",
    "import matplotlib.pyplot as plt\n",
    "\n",
    "sns.boxplot(x=df[\"Experience_rating\"])\n",
    "plt.show()"
   ]
  },
  {
   "cell_type": "code",
   "execution_count": 39,
   "id": "8b8fc0ab",
   "metadata": {},
   "outputs": [
    {
     "name": "stdout",
     "output_type": "stream",
     "text": [
      "Mean: 3.525758813121002\n",
      "Median: 4.0\n"
     ]
    }
   ],
   "source": [
    "print(\"Mean:\", df[\"Experience_rating\"].mean())\n",
    "print(\"Median:\", df[\"Experience_rating\"].median())"
   ]
  },
  {
   "cell_type": "markdown",
   "id": "f0625d03",
   "metadata": {},
   "source": [
    "Following the calculation of the mean and median, along with an analysis of the data distribution through a box plot, the missing values in the Experience_rating column were imputed using the median. This method was chosen because the median offers a more robust measure of central tendency, minimizing the impact of the few outliers present in the data"
   ]
  },
  {
   "cell_type": "code",
   "execution_count": 40,
   "id": "81515afd",
   "metadata": {},
   "outputs": [],
   "source": [
    "df[\"Experience_rating\"] = df[\"Experience_rating\"].fillna(df[\"Experience_rating\"].median())"
   ]
  },
  {
   "cell_type": "code",
   "execution_count": 41,
   "id": "71b33723",
   "metadata": {},
   "outputs": [
    {
     "data": {
      "text/plain": [
       "<Axes: >"
      ]
     },
     "execution_count": 41,
     "metadata": {},
     "output_type": "execute_result"
    },
    {
     "data": {
      "image/png": "[encoded data removed]",
      "text/plain": [
       "<Figure size 2500x1000 with 2 Axes>"
      ]
     },
     "metadata": {},
     "output_type": "display_data"
    }
   ],
   "source": [
    "import missingno as msno\n",
    "msno.matrix(df)"
   ]
  },
  {
   "cell_type": "markdown",
   "id": "55189e9c",
   "metadata": {},
   "source": [
    "I will now proceed to impute the missing values for column \"Approx_cost_for_two\" and \"Rest_type\" and droped NA for columns: \"Location\" and \"Cuisines\" to ensure completeness of the dataset."
   ]
  },
  {
   "cell_type": "code",
   "execution_count": 42,
   "id": "b8355194",
   "metadata": {},
   "outputs": [
    {
     "data": {
      "application/vnd.microsoft.datawrangler.viewer.v0+json": {
       "columns": [
        {
         "name": "index",
         "rawType": "object",
         "type": "string"
        },
        {
         "name": "0",
         "rawType": "int64",
         "type": "integer"
        }
       ],
       "ref": "dc028853-d266-480a-9d72-f6f23f612487",
       "rows": [
        [
         "Address",
         "0"
        ],
        [
         "Restaurant_name",
         "0"
        ],
        [
         "Online_order",
         "0"
        ],
        [
         "Book_table",
         "0"
        ],
        [
         "Book_table_rating",
         "0"
        ],
        [
         "Votes",
         "0"
        ],
        [
         "Location",
         "21"
        ],
        [
         "Rest_type",
         "227"
        ],
        [
         "Dish_liked",
         "0"
        ],
        [
         "Dish_liked_input",
         "0"
        ],
        [
         "Cuisines",
         "45"
        ],
        [
         "Approx_cost_for_two",
         "345"
        ],
        [
         "Experience_rating",
         "0"
        ],
        [
         "Service_type",
         "0"
        ],
        [
         "Listed_city",
         "0"
        ]
       ],
       "shape": {
        "columns": 1,
        "rows": 15
       }
      },
      "text/plain": [
       "Address                  0\n",
       "Restaurant_name          0\n",
       "Online_order             0\n",
       "Book_table               0\n",
       "Book_table_rating        0\n",
       "Votes                    0\n",
       "Location                21\n",
       "Rest_type              227\n",
       "Dish_liked               0\n",
       "Dish_liked_input         0\n",
       "Cuisines                45\n",
       "Approx_cost_for_two    345\n",
       "Experience_rating        0\n",
       "Service_type             0\n",
       "Listed_city              0\n",
       "dtype: int64"
      ]
     },
     "execution_count": 42,
     "metadata": {},
     "output_type": "execute_result"
    }
   ],
   "source": [
    "df.isna().sum()"
   ]
  },
  {
   "cell_type": "code",
   "execution_count": 43,
   "id": "2d0188a7",
   "metadata": {},
   "outputs": [
    {
     "data": {
      "application/vnd.microsoft.datawrangler.viewer.v0+json": {
       "columns": [
        {
         "name": "index",
         "rawType": "int64",
         "type": "integer"
        },
        {
         "name": "Address",
         "rawType": "object",
         "type": "string"
        },
        {
         "name": "Restaurant_name",
         "rawType": "object",
         "type": "string"
        },
        {
         "name": "Online_order",
         "rawType": "object",
         "type": "string"
        },
        {
         "name": "Book_table",
         "rawType": "object",
         "type": "string"
        },
        {
         "name": "Book_table_rating",
         "rawType": "float64",
         "type": "float"
        },
        {
         "name": "Votes",
         "rawType": "int64",
         "type": "integer"
        },
        {
         "name": "Location",
         "rawType": "object",
         "type": "string"
        },
        {
         "name": "Rest_type",
         "rawType": "object",
         "type": "string"
        },
        {
         "name": "Dish_liked",
         "rawType": "object",
         "type": "string"
        },
        {
         "name": "Dish_liked_input",
         "rawType": "bool",
         "type": "boolean"
        },
        {
         "name": "Cuisines",
         "rawType": "object",
         "type": "string"
        },
        {
         "name": "Approx_cost_for_two",
         "rawType": "Int64",
         "type": "integer"
        },
        {
         "name": "Experience_rating",
         "rawType": "float64",
         "type": "float"
        },
        {
         "name": "Service_type",
         "rawType": "object",
         "type": "string"
        },
        {
         "name": "Listed_city",
         "rawType": "object",
         "type": "string"
        }
       ],
       "ref": "0fcc0051-3c67-4455-b60a-87612982de15",
       "rows": [
        [
         "0",
         "942, 21st Main Road, 2nd Stage, Banashankari, Bangalore",
         "Jalsa",
         "Yes",
         "Yes",
         "4.1",
         "775",
         "Banashankari",
         "Casual Dining",
         "Pasta, Lunch Buffet, Masala Papad, Paneer Lajawab, Tomato Shorba, Dum Biryani, Sweet Corn Soup",
         "False",
         "North Indian, Mughlai, Chinese",
         "800",
         "4.0",
         "Buffet",
         "Banashankari"
        ],
        [
         "1",
         "2nd Floor, 80 Feet Road, Near Big Bazaar, 6th Block, Kathriguppe, 3rd Stage, Banashankari, Bangalore",
         "Spice Elephant",
         "Yes",
         "No",
         "4.1",
         "787",
         "Banashankari",
         "Casual Dining",
         "Momos, Lunch Buffet, Chocolate Nirvana, Thai Green Curry, Paneer Tikka, Dum Biryani, Chicken Biryani",
         "False",
         "Chinese, North Indian, Thai",
         "800",
         "4.0",
         "Buffet",
         "Banashankari"
        ]
       ],
       "shape": {
        "columns": 15,
        "rows": 2
       }
      },
      "text/html": [
       "<div>\n",
       "<style scoped>\n",
       "    .dataframe tbody tr th:only-of-type {\n",
       "        vertical-align: middle;\n",
       "    }\n",
       "\n",
       "    .dataframe tbody tr th {\n",
       "        vertical-align: top;\n",
       "    }\n",
       "\n",
       "    .dataframe thead th {\n",
       "        text-align: right;\n",
       "    }\n",
       "</style>\n",
       "<table border=\"1\" class=\"dataframe\">\n",
       "  <thead>\n",
       "    <tr style=\"text-align: right;\">\n",
       "      <th></th>\n",
       "      <th>Address</th>\n",
       "      <th>Restaurant_name</th>\n",
       "      <th>Online_order</th>\n",
       "      <th>Book_table</th>\n",
       "      <th>Book_table_rating</th>\n",
       "      <th>Votes</th>\n",
       "      <th>Location</th>\n",
       "      <th>Rest_type</th>\n",
       "      <th>Dish_liked</th>\n",
       "      <th>Dish_liked_input</th>\n",
       "      <th>Cuisines</th>\n",
       "      <th>Approx_cost_for_two</th>\n",
       "      <th>Experience_rating</th>\n",
       "      <th>Service_type</th>\n",
       "      <th>Listed_city</th>\n",
       "    </tr>\n",
       "  </thead>\n",
       "  <tbody>\n",
       "    <tr>\n",
       "      <th>0</th>\n",
       "      <td>942, 21st Main Road, 2nd Stage, Banashankari, ...</td>\n",
       "      <td>Jalsa</td>\n",
       "      <td>Yes</td>\n",
       "      <td>Yes</td>\n",
       "      <td>4.1</td>\n",
       "      <td>775</td>\n",
       "      <td>Banashankari</td>\n",
       "      <td>Casual Dining</td>\n",
       "      <td>Pasta, Lunch Buffet, Masala Papad, Paneer Laja...</td>\n",
       "      <td>False</td>\n",
       "      <td>North Indian, Mughlai, Chinese</td>\n",
       "      <td>800</td>\n",
       "      <td>4.0</td>\n",
       "      <td>Buffet</td>\n",
       "      <td>Banashankari</td>\n",
       "    </tr>\n",
       "    <tr>\n",
       "      <th>1</th>\n",
       "      <td>2nd Floor, 80 Feet Road, Near Big Bazaar, 6th ...</td>\n",
       "      <td>Spice Elephant</td>\n",
       "      <td>Yes</td>\n",
       "      <td>No</td>\n",
       "      <td>4.1</td>\n",
       "      <td>787</td>\n",
       "      <td>Banashankari</td>\n",
       "      <td>Casual Dining</td>\n",
       "      <td>Momos, Lunch Buffet, Chocolate Nirvana, Thai G...</td>\n",
       "      <td>False</td>\n",
       "      <td>Chinese, North Indian, Thai</td>\n",
       "      <td>800</td>\n",
       "      <td>4.0</td>\n",
       "      <td>Buffet</td>\n",
       "      <td>Banashankari</td>\n",
       "    </tr>\n",
       "  </tbody>\n",
       "</table>\n",
       "</div>"
      ],
      "text/plain": [
       "                                             Address Restaurant_name  \\\n",
       "0  942, 21st Main Road, 2nd Stage, Banashankari, ...           Jalsa   \n",
       "1  2nd Floor, 80 Feet Road, Near Big Bazaar, 6th ...  Spice Elephant   \n",
       "\n",
       "  Online_order Book_table  Book_table_rating  Votes      Location  \\\n",
       "0          Yes        Yes                4.1    775  Banashankari   \n",
       "1          Yes         No                4.1    787  Banashankari   \n",
       "\n",
       "       Rest_type                                         Dish_liked  \\\n",
       "0  Casual Dining  Pasta, Lunch Buffet, Masala Papad, Paneer Laja...   \n",
       "1  Casual Dining  Momos, Lunch Buffet, Chocolate Nirvana, Thai G...   \n",
       "\n",
       "   Dish_liked_input                        Cuisines  Approx_cost_for_two  \\\n",
       "0             False  North Indian, Mughlai, Chinese                  800   \n",
       "1             False     Chinese, North Indian, Thai                  800   \n",
       "\n",
       "   Experience_rating Service_type   Listed_city  \n",
       "0                4.0       Buffet  Banashankari  \n",
       "1                4.0       Buffet  Banashankari  "
      ]
     },
     "execution_count": 43,
     "metadata": {},
     "output_type": "execute_result"
    }
   ],
   "source": [
    "df.head(2)"
   ]
  },
  {
   "cell_type": "code",
   "execution_count": 44,
   "id": "d8c559aa",
   "metadata": {},
   "outputs": [
    {
     "data": {
      "image/png": "[encoded data removed]",
      "text/plain": [
       "<Figure size 640x480 with 1 Axes>"
      ]
     },
     "metadata": {},
     "output_type": "display_data"
    }
   ],
   "source": [
    "import seaborn as sns\n",
    "import matplotlib.pyplot as plt\n",
    "\n",
    "sns.boxplot(x=df[\"Approx_cost_for_two\"])\n",
    "plt.show()"
   ]
  },
  {
   "cell_type": "code",
   "execution_count": 45,
   "id": "6a95dacb",
   "metadata": {},
   "outputs": [
    {
     "name": "stdout",
     "output_type": "stream",
     "text": [
      "Mean: 555.4640310198356\n",
      "Median: 400.0\n"
     ]
    }
   ],
   "source": [
    "print(\"Mean:\", df[\"Approx_cost_for_two\"].mean())\n",
    "print(\"Median:\", df[\"Approx_cost_for_two\"].median())"
   ]
  },
  {
   "cell_type": "markdown",
   "id": "4d0b0a5c",
   "metadata": {},
   "source": [
    "The median value was employed to fill NA values of column \"Approx_cost_for_two\""
   ]
  },
  {
   "cell_type": "code",
   "execution_count": 46,
   "id": "f39c15b8",
   "metadata": {},
   "outputs": [],
   "source": [
    "df[\"Approx_cost_for_two\"] = df[\"Approx_cost_for_two\"].fillna(df[\"Approx_cost_for_two\"].median())"
   ]
  },
  {
   "cell_type": "code",
   "execution_count": 47,
   "id": "3ae24cb5",
   "metadata": {},
   "outputs": [],
   "source": [
    "df.dropna(subset=[\"Location\", \"Cuisines\"], inplace=True)"
   ]
  },
  {
   "cell_type": "code",
   "execution_count": 48,
   "id": "39b229b5",
   "metadata": {},
   "outputs": [],
   "source": [
    "df[\"Rest_type\"] = df[\"Rest_type\"].fillna(\"Unknown\")"
   ]
  },
  {
   "cell_type": "code",
   "execution_count": 49,
   "id": "9d9ff45b",
   "metadata": {},
   "outputs": [
    {
     "data": {
      "text/plain": [
       "np.int64(35)"
      ]
     },
     "execution_count": 49,
     "metadata": {},
     "output_type": "execute_result"
    }
   ],
   "source": [
    "df.duplicated().sum()"
   ]
  },
  {
   "cell_type": "code",
   "execution_count": 50,
   "id": "820c35b3",
   "metadata": {},
   "outputs": [],
   "source": [
    "df.drop_duplicates(inplace=True)"
   ]
  },
  {
   "cell_type": "code",
   "execution_count": 51,
   "id": "78c106d3",
   "metadata": {},
   "outputs": [
    {
     "data": {
      "application/vnd.microsoft.datawrangler.viewer.v0+json": {
       "columns": [
        {
         "name": "index",
         "rawType": "object",
         "type": "string"
        },
        {
         "name": "0",
         "rawType": "int64",
         "type": "integer"
        }
       ],
       "ref": "48eabf74-cac2-4f9f-8d13-034cce4a09dd",
       "rows": [
        [
         "Address",
         "11480"
        ],
        [
         "Restaurant_name",
         "8785"
        ],
        [
         "Online_order",
         "2"
        ],
        [
         "Book_table",
         "2"
        ],
        [
         "Book_table_rating",
         "31"
        ],
        [
         "Votes",
         "2328"
        ],
        [
         "Location",
         "93"
        ],
        [
         "Rest_type",
         "94"
        ],
        [
         "Dish_liked",
         "5272"
        ],
        [
         "Dish_liked_input",
         "2"
        ],
        [
         "Cuisines",
         "2723"
        ],
        [
         "Approx_cost_for_two",
         "70"
        ],
        [
         "Experience_rating",
         "9"
        ],
        [
         "Service_type",
         "7"
        ],
        [
         "Listed_city",
         "30"
        ]
       ],
       "shape": {
        "columns": 1,
        "rows": 15
       }
      },
      "text/plain": [
       "Address                11480\n",
       "Restaurant_name         8785\n",
       "Online_order               2\n",
       "Book_table                 2\n",
       "Book_table_rating         31\n",
       "Votes                   2328\n",
       "Location                  93\n",
       "Rest_type                 94\n",
       "Dish_liked              5272\n",
       "Dish_liked_input           2\n",
       "Cuisines                2723\n",
       "Approx_cost_for_two       70\n",
       "Experience_rating          9\n",
       "Service_type               7\n",
       "Listed_city               30\n",
       "dtype: int64"
      ]
     },
     "execution_count": 51,
     "metadata": {},
     "output_type": "execute_result"
    }
   ],
   "source": [
    "df.nunique()"
   ]
  },
  {
   "cell_type": "markdown",
   "id": "b250a394",
   "metadata": {},
   "source": [
    "To facilitate detailed analysis, the dataset was transformed by exploding the multi-valued columns Rest_type, Dish_liked, and Cuisines. This process involved splitting entries containing multiple values into separate rows in a new jupyter notebooks, allowing for granular examination of each individual category or item. Exploding these columns improves data normalization and enables more precise aggregation and insights across these key attributes\n",
    "\n",
    "This was achieved by leveraging the Pandas row index to maintain data integrity, preserving these indices in the exported dataset to serve as unique keys for subsequent database integration"
   ]
  },
  {
   "cell_type": "markdown",
   "id": "173cd4ed",
   "metadata": {},
   "source": [
    "The fully processed dataset was exported for use in dedicated Jupyter Notebooks, facilitating modular analysis and a streamlined workflow.\n",
    "\n",
    "This export enables focused transformation (exploding specific columns) in separate notebooks tailored to individual columns. Such a modular approach enhances flexibility and improves organization throughout the data processing pipeline"
   ]
  },
  {
   "cell_type": "code",
   "execution_count": null,
   "id": "5b9a407b",
   "metadata": {},
   "outputs": [],
   "source": [
    "df.to_csv(\"Cleaned_dataset.csv\", index=True)"
   ]
  },
  {
   "cell_type": "markdown",
   "id": "f9955922",
   "metadata": {},
   "source": [
    "The final processed dataset represents the cleaned, transformed, and fully prepared data ready for analysis and database integration.\n",
    "Columns to be exploxed were dropped from this final processed dataset"
   ]
  },
  {
   "cell_type": "code",
   "execution_count": 53,
   "id": "5511dc16",
   "metadata": {},
   "outputs": [],
   "source": [
    "df.drop([\"Rest_type\",\"Dish_liked\",\"Cuisines\"], axis=1, inplace=True)"
   ]
  },
  {
   "cell_type": "code",
   "execution_count": 54,
   "id": "a263cdf8",
   "metadata": {},
   "outputs": [
    {
     "data": {
      "application/vnd.microsoft.datawrangler.viewer.v0+json": {
       "columns": [
        {
         "name": "index",
         "rawType": "int64",
         "type": "integer"
        },
        {
         "name": "Address",
         "rawType": "object",
         "type": "string"
        },
        {
         "name": "Restaurant_name",
         "rawType": "object",
         "type": "string"
        },
        {
         "name": "Online_order",
         "rawType": "object",
         "type": "string"
        },
        {
         "name": "Book_table",
         "rawType": "object",
         "type": "string"
        },
        {
         "name": "Book_table_rating",
         "rawType": "float64",
         "type": "float"
        },
        {
         "name": "Votes",
         "rawType": "int64",
         "type": "integer"
        },
        {
         "name": "Location",
         "rawType": "object",
         "type": "string"
        },
        {
         "name": "Dish_liked_input",
         "rawType": "bool",
         "type": "boolean"
        },
        {
         "name": "Approx_cost_for_two",
         "rawType": "Int64",
         "type": "integer"
        },
        {
         "name": "Experience_rating",
         "rawType": "float64",
         "type": "float"
        },
        {
         "name": "Service_type",
         "rawType": "object",
         "type": "string"
        },
        {
         "name": "Listed_city",
         "rawType": "object",
         "type": "string"
        }
       ],
       "ref": "12dde6a8-ece6-491e-9481-43e954d75504",
       "rows": [
        [
         "0",
         "942, 21st Main Road, 2nd Stage, Banashankari, Bangalore",
         "Jalsa",
         "Yes",
         "Yes",
         "4.1",
         "775",
         "Banashankari",
         "False",
         "800",
         "4.0",
         "Buffet",
         "Banashankari"
        ],
        [
         "1",
         "2nd Floor, 80 Feet Road, Near Big Bazaar, 6th Block, Kathriguppe, 3rd Stage, Banashankari, Bangalore",
         "Spice Elephant",
         "Yes",
         "No",
         "4.1",
         "787",
         "Banashankari",
         "False",
         "800",
         "4.0",
         "Buffet",
         "Banashankari"
        ]
       ],
       "shape": {
        "columns": 12,
        "rows": 2
       }
      },
      "text/html": [
       "<div>\n",
       "<style scoped>\n",
       "    .dataframe tbody tr th:only-of-type {\n",
       "        vertical-align: middle;\n",
       "    }\n",
       "\n",
       "    .dataframe tbody tr th {\n",
       "        vertical-align: top;\n",
       "    }\n",
       "\n",
       "    .dataframe thead th {\n",
       "        text-align: right;\n",
       "    }\n",
       "</style>\n",
       "<table border=\"1\" class=\"dataframe\">\n",
       "  <thead>\n",
       "    <tr style=\"text-align: right;\">\n",
       "      <th></th>\n",
       "      <th>Address</th>\n",
       "      <th>Restaurant_name</th>\n",
       "      <th>Online_order</th>\n",
       "      <th>Book_table</th>\n",
       "      <th>Book_table_rating</th>\n",
       "      <th>Votes</th>\n",
       "      <th>Location</th>\n",
       "      <th>Dish_liked_input</th>\n",
       "      <th>Approx_cost_for_two</th>\n",
       "      <th>Experience_rating</th>\n",
       "      <th>Service_type</th>\n",
       "      <th>Listed_city</th>\n",
       "    </tr>\n",
       "  </thead>\n",
       "  <tbody>\n",
       "    <tr>\n",
       "      <th>0</th>\n",
       "      <td>942, 21st Main Road, 2nd Stage, Banashankari, ...</td>\n",
       "      <td>Jalsa</td>\n",
       "      <td>Yes</td>\n",
       "      <td>Yes</td>\n",
       "      <td>4.1</td>\n",
       "      <td>775</td>\n",
       "      <td>Banashankari</td>\n",
       "      <td>False</td>\n",
       "      <td>800</td>\n",
       "      <td>4.0</td>\n",
       "      <td>Buffet</td>\n",
       "      <td>Banashankari</td>\n",
       "    </tr>\n",
       "    <tr>\n",
       "      <th>1</th>\n",
       "      <td>2nd Floor, 80 Feet Road, Near Big Bazaar, 6th ...</td>\n",
       "      <td>Spice Elephant</td>\n",
       "      <td>Yes</td>\n",
       "      <td>No</td>\n",
       "      <td>4.1</td>\n",
       "      <td>787</td>\n",
       "      <td>Banashankari</td>\n",
       "      <td>False</td>\n",
       "      <td>800</td>\n",
       "      <td>4.0</td>\n",
       "      <td>Buffet</td>\n",
       "      <td>Banashankari</td>\n",
       "    </tr>\n",
       "  </tbody>\n",
       "</table>\n",
       "</div>"
      ],
      "text/plain": [
       "                                             Address Restaurant_name  \\\n",
       "0  942, 21st Main Road, 2nd Stage, Banashankari, ...           Jalsa   \n",
       "1  2nd Floor, 80 Feet Road, Near Big Bazaar, 6th ...  Spice Elephant   \n",
       "\n",
       "  Online_order Book_table  Book_table_rating  Votes      Location  \\\n",
       "0          Yes        Yes                4.1    775  Banashankari   \n",
       "1          Yes         No                4.1    787  Banashankari   \n",
       "\n",
       "   Dish_liked_input  Approx_cost_for_two  Experience_rating Service_type  \\\n",
       "0             False                  800                4.0       Buffet   \n",
       "1             False                  800                4.0       Buffet   \n",
       "\n",
       "    Listed_city  \n",
       "0  Banashankari  \n",
       "1  Banashankari  "
      ]
     },
     "execution_count": 54,
     "metadata": {},
     "output_type": "execute_result"
    }
   ],
   "source": [
    "df.head(2)"
   ]
  },
  {
   "cell_type": "code",
   "execution_count": null,
   "id": "6a816024",
   "metadata": {},
   "outputs": [],
   "source": [
    "df.to_csv(\"Final_main_dataset.csv\", index=True)"
   ]
  }
 ],
 "metadata": {
  "kernelspec": {
   "display_name": "virtual_environment",
   "language": "python",
   "name": "python3"
  },
  "language_info": {
   "codemirror_mode": {
    "name": "ipython",
    "version": 3
   },
   "file_extension": ".py",
   "mimetype": "text/x-python",
   "name": "python",
   "nbconvert_exporter": "python",
   "pygments_lexer": "ipython3",
   "version": "3.13.3"
  }
 },
 "nbformat": 4,
 "nbformat_minor": 5
}

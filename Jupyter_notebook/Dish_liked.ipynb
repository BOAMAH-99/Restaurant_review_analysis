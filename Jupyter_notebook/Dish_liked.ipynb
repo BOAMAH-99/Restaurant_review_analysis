{
 "cells": [
  {
   "cell_type": "markdown",
   "id": "c5b69cc4",
   "metadata": {},
   "source": [
    "### Seperation and explosion of the \"Dish_liked\" column"
   ]
  },
  {
   "cell_type": "markdown",
   "id": "00e6f3d5",
   "metadata": {},
   "source": [
    "This notebook focuses on selecting and exploding the \"Dish_liked\" column to enable detailed analysis of individual dish preferences"
   ]
  },
  {
   "cell_type": "code",
   "execution_count": null,
   "id": "e42192d3",
   "metadata": {},
   "outputs": [],
   "source": [
    "import pandas as pd\n",
    "import numpy as np\n",
    "import re\n",
    "\n",
    "df = pd.read_csv(r\"C:\\Users\\MICHAEL KODUA BOAMAH\\Desktop\\Zomato_data_cleaning\\Dataset\\Cleaned_dataset.csv\")"
   ]
  },
  {
   "cell_type": "code",
   "execution_count": 11,
   "id": "22720699",
   "metadata": {},
   "outputs": [],
   "source": [
    "df.drop([\"Restaurant_name\",\"Address\", \"Online_order\",\"Book_table\",\"Book_table_rating\",\"Votes\",\"Location\",\"Rest_type\",\"Dish_liked_input\",\"Cuisines\",\"Approx_cost_for_two\",\"Experience_rating\",\"Service_type\",\"Listed_city\"], axis=1, inplace=True)"
   ]
  },
  {
   "cell_type": "code",
   "execution_count": 12,
   "id": "bbc6ac6b",
   "metadata": {},
   "outputs": [
    {
     "data": {
      "application/vnd.microsoft.datawrangler.viewer.v0+json": {
       "columns": [
        {
         "name": "index",
         "rawType": "int64",
         "type": "integer"
        },
        {
         "name": "Unnamed: 0",
         "rawType": "int64",
         "type": "integer"
        },
        {
         "name": "Dish_liked",
         "rawType": "object",
         "type": "string"
        }
       ],
       "ref": "032db51b-9547-4306-ba71-e99cfb29c2aa",
       "rows": [
        [
         "0",
         "0",
         "Pasta, Lunch Buffet, Masala Papad, Paneer Lajawab, Tomato Shorba, Dum Biryani, Sweet Corn Soup"
        ],
        [
         "1",
         "1",
         "Momos, Lunch Buffet, Chocolate Nirvana, Thai Green Curry, Paneer Tikka, Dum Biryani, Chicken Biryani"
        ]
       ],
       "shape": {
        "columns": 2,
        "rows": 2
       }
      },
      "text/html": [
       "<div>\n",
       "<style scoped>\n",
       "    .dataframe tbody tr th:only-of-type {\n",
       "        vertical-align: middle;\n",
       "    }\n",
       "\n",
       "    .dataframe tbody tr th {\n",
       "        vertical-align: top;\n",
       "    }\n",
       "\n",
       "    .dataframe thead th {\n",
       "        text-align: right;\n",
       "    }\n",
       "</style>\n",
       "<table border=\"1\" class=\"dataframe\">\n",
       "  <thead>\n",
       "    <tr style=\"text-align: right;\">\n",
       "      <th></th>\n",
       "      <th>Unnamed: 0</th>\n",
       "      <th>Dish_liked</th>\n",
       "    </tr>\n",
       "  </thead>\n",
       "  <tbody>\n",
       "    <tr>\n",
       "      <th>0</th>\n",
       "      <td>0</td>\n",
       "      <td>Pasta, Lunch Buffet, Masala Papad, Paneer Laja...</td>\n",
       "    </tr>\n",
       "    <tr>\n",
       "      <th>1</th>\n",
       "      <td>1</td>\n",
       "      <td>Momos, Lunch Buffet, Chocolate Nirvana, Thai G...</td>\n",
       "    </tr>\n",
       "  </tbody>\n",
       "</table>\n",
       "</div>"
      ],
      "text/plain": [
       "   Unnamed: 0                                         Dish_liked\n",
       "0           0  Pasta, Lunch Buffet, Masala Papad, Paneer Laja...\n",
       "1           1  Momos, Lunch Buffet, Chocolate Nirvana, Thai G..."
      ]
     },
     "execution_count": 12,
     "metadata": {},
     "output_type": "execute_result"
    }
   ],
   "source": [
    "df.head(2)"
   ]
  },
  {
   "cell_type": "code",
   "execution_count": 13,
   "id": "e5c20105",
   "metadata": {},
   "outputs": [],
   "source": [
    "df['Dish_liked'] = df['Dish_liked'].str.split(',')"
   ]
  },
  {
   "cell_type": "code",
   "execution_count": 14,
   "id": "024e59eb",
   "metadata": {},
   "outputs": [],
   "source": [
    "df = df.explode('Dish_liked')"
   ]
  },
  {
   "cell_type": "code",
   "execution_count": 15,
   "id": "d268e3c4",
   "metadata": {},
   "outputs": [
    {
     "data": {
      "application/vnd.microsoft.datawrangler.viewer.v0+json": {
       "columns": [
        {
         "name": "index",
         "rawType": "int64",
         "type": "integer"
        },
        {
         "name": "Unnamed: 0",
         "rawType": "int64",
         "type": "integer"
        },
        {
         "name": "Dish_liked",
         "rawType": "object",
         "type": "string"
        }
       ],
       "ref": "dee1ddaa-4c86-4155-b94a-7b4f7c9e0c1d",
       "rows": [
        [
         "0",
         "0",
         "Pasta"
        ],
        [
         "0",
         "0",
         " Lunch Buffet"
        ],
        [
         "0",
         "0",
         " Masala Papad"
        ],
        [
         "0",
         "0",
         " Paneer Lajawab"
        ],
        [
         "0",
         "0",
         " Tomato Shorba"
        ]
       ],
       "shape": {
        "columns": 2,
        "rows": 5
       }
      },
      "text/html": [
       "<div>\n",
       "<style scoped>\n",
       "    .dataframe tbody tr th:only-of-type {\n",
       "        vertical-align: middle;\n",
       "    }\n",
       "\n",
       "    .dataframe tbody tr th {\n",
       "        vertical-align: top;\n",
       "    }\n",
       "\n",
       "    .dataframe thead th {\n",
       "        text-align: right;\n",
       "    }\n",
       "</style>\n",
       "<table border=\"1\" class=\"dataframe\">\n",
       "  <thead>\n",
       "    <tr style=\"text-align: right;\">\n",
       "      <th></th>\n",
       "      <th>Unnamed: 0</th>\n",
       "      <th>Dish_liked</th>\n",
       "    </tr>\n",
       "  </thead>\n",
       "  <tbody>\n",
       "    <tr>\n",
       "      <th>0</th>\n",
       "      <td>0</td>\n",
       "      <td>Pasta</td>\n",
       "    </tr>\n",
       "    <tr>\n",
       "      <th>0</th>\n",
       "      <td>0</td>\n",
       "      <td>Lunch Buffet</td>\n",
       "    </tr>\n",
       "    <tr>\n",
       "      <th>0</th>\n",
       "      <td>0</td>\n",
       "      <td>Masala Papad</td>\n",
       "    </tr>\n",
       "    <tr>\n",
       "      <th>0</th>\n",
       "      <td>0</td>\n",
       "      <td>Paneer Lajawab</td>\n",
       "    </tr>\n",
       "    <tr>\n",
       "      <th>0</th>\n",
       "      <td>0</td>\n",
       "      <td>Tomato Shorba</td>\n",
       "    </tr>\n",
       "  </tbody>\n",
       "</table>\n",
       "</div>"
      ],
      "text/plain": [
       "   Unnamed: 0       Dish_liked\n",
       "0           0            Pasta\n",
       "0           0     Lunch Buffet\n",
       "0           0     Masala Papad\n",
       "0           0   Paneer Lajawab\n",
       "0           0    Tomato Shorba"
      ]
     },
     "execution_count": 15,
     "metadata": {},
     "output_type": "execute_result"
    }
   ],
   "source": [
    "df.head()"
   ]
  },
  {
   "cell_type": "code",
   "execution_count": 16,
   "id": "4deea414",
   "metadata": {},
   "outputs": [],
   "source": [
    "df['Dish_liked'] = df['Dish_liked'].str.replace(',', '', regex=False).str.strip()"
   ]
  },
  {
   "cell_type": "code",
   "execution_count": 17,
   "id": "b6c51057",
   "metadata": {},
   "outputs": [
    {
     "data": {
      "application/vnd.microsoft.datawrangler.viewer.v0+json": {
       "columns": [
        {
         "name": "index",
         "rawType": "int64",
         "type": "integer"
        },
        {
         "name": "Unnamed: 0",
         "rawType": "int64",
         "type": "integer"
        },
        {
         "name": "Dish_liked",
         "rawType": "object",
         "type": "string"
        }
       ],
       "ref": "835a4d5e-873a-40f4-83f5-7f6eb8fd2c62",
       "rows": [
        [
         "0",
         "0",
         "Pasta"
        ],
        [
         "0",
         "0",
         "Lunch Buffet"
        ],
        [
         "0",
         "0",
         "Masala Papad"
        ],
        [
         "0",
         "0",
         "Paneer Lajawab"
        ],
        [
         "0",
         "0",
         "Tomato Shorba"
        ],
        [
         "0",
         "0",
         "Dum Biryani"
        ],
        [
         "0",
         "0",
         "Sweet Corn Soup"
        ],
        [
         "1",
         "1",
         "Momos"
        ],
        [
         "1",
         "1",
         "Lunch Buffet"
        ],
        [
         "1",
         "1",
         "Chocolate Nirvana"
        ]
       ],
       "shape": {
        "columns": 2,
        "rows": 10
       }
      },
      "text/html": [
       "<div>\n",
       "<style scoped>\n",
       "    .dataframe tbody tr th:only-of-type {\n",
       "        vertical-align: middle;\n",
       "    }\n",
       "\n",
       "    .dataframe tbody tr th {\n",
       "        vertical-align: top;\n",
       "    }\n",
       "\n",
       "    .dataframe thead th {\n",
       "        text-align: right;\n",
       "    }\n",
       "</style>\n",
       "<table border=\"1\" class=\"dataframe\">\n",
       "  <thead>\n",
       "    <tr style=\"text-align: right;\">\n",
       "      <th></th>\n",
       "      <th>Unnamed: 0</th>\n",
       "      <th>Dish_liked</th>\n",
       "    </tr>\n",
       "  </thead>\n",
       "  <tbody>\n",
       "    <tr>\n",
       "      <th>0</th>\n",
       "      <td>0</td>\n",
       "      <td>Pasta</td>\n",
       "    </tr>\n",
       "    <tr>\n",
       "      <th>0</th>\n",
       "      <td>0</td>\n",
       "      <td>Lunch Buffet</td>\n",
       "    </tr>\n",
       "    <tr>\n",
       "      <th>0</th>\n",
       "      <td>0</td>\n",
       "      <td>Masala Papad</td>\n",
       "    </tr>\n",
       "    <tr>\n",
       "      <th>0</th>\n",
       "      <td>0</td>\n",
       "      <td>Paneer Lajawab</td>\n",
       "    </tr>\n",
       "    <tr>\n",
       "      <th>0</th>\n",
       "      <td>0</td>\n",
       "      <td>Tomato Shorba</td>\n",
       "    </tr>\n",
       "    <tr>\n",
       "      <th>0</th>\n",
       "      <td>0</td>\n",
       "      <td>Dum Biryani</td>\n",
       "    </tr>\n",
       "    <tr>\n",
       "      <th>0</th>\n",
       "      <td>0</td>\n",
       "      <td>Sweet Corn Soup</td>\n",
       "    </tr>\n",
       "    <tr>\n",
       "      <th>1</th>\n",
       "      <td>1</td>\n",
       "      <td>Momos</td>\n",
       "    </tr>\n",
       "    <tr>\n",
       "      <th>1</th>\n",
       "      <td>1</td>\n",
       "      <td>Lunch Buffet</td>\n",
       "    </tr>\n",
       "    <tr>\n",
       "      <th>1</th>\n",
       "      <td>1</td>\n",
       "      <td>Chocolate Nirvana</td>\n",
       "    </tr>\n",
       "  </tbody>\n",
       "</table>\n",
       "</div>"
      ],
      "text/plain": [
       "   Unnamed: 0         Dish_liked\n",
       "0           0              Pasta\n",
       "0           0       Lunch Buffet\n",
       "0           0       Masala Papad\n",
       "0           0     Paneer Lajawab\n",
       "0           0      Tomato Shorba\n",
       "0           0        Dum Biryani\n",
       "0           0    Sweet Corn Soup\n",
       "1           1              Momos\n",
       "1           1       Lunch Buffet\n",
       "1           1  Chocolate Nirvana"
      ]
     },
     "execution_count": 17,
     "metadata": {},
     "output_type": "execute_result"
    }
   ],
   "source": [
    "df.head(10)"
   ]
  },
  {
   "cell_type": "code",
   "execution_count": 18,
   "id": "50a68e71",
   "metadata": {},
   "outputs": [],
   "source": [
    "df.to_csv(\"Dish_liked.csv\", index=False)"
   ]
  }
 ],
 "metadata": {
  "kernelspec": {
   "display_name": "virtual_environment",
   "language": "python",
   "name": "python3"
  },
  "language_info": {
   "codemirror_mode": {
    "name": "ipython",
    "version": 3
   },
   "file_extension": ".py",
   "mimetype": "text/x-python",
   "name": "python",
   "nbconvert_exporter": "python",
   "pygments_lexer": "ipython3",
   "version": "3.13.3"
  }
 },
 "nbformat": 4,
 "nbformat_minor": 5
}

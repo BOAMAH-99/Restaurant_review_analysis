{
 "cells": [
  {
   "cell_type": "markdown",
   "id": "2a05691c",
   "metadata": {},
   "source": [
    "### Seperation and explosion of the \"Rest_type\" column"
   ]
  },
  {
   "cell_type": "markdown",
   "id": "89b1e9d6",
   "metadata": {},
   "source": [
    "This notebook focuses on selecting and exploding the \"Rest_type\" column. Exploding this column enables detailed analysis of each rest_type individually, supporting deeper insights into customer preferences and market segmentation"
   ]
  },
  {
   "cell_type": "code",
   "execution_count": null,
   "id": "416f852f",
   "metadata": {},
   "outputs": [],
   "source": [
    "import pandas as pd\n",
    "import numpy as np\n",
    "import re\n",
    "\n",
    "df = pd.read_csv(r\"C:\\Users\\MICHAEL KODUA BOAMAH\\Desktop\\Zomato_data_cleaning\\Dataset\\Cleaned_dataset.csv\")"
   ]
  },
  {
   "cell_type": "code",
   "execution_count": 2,
   "id": "d33938f1",
   "metadata": {},
   "outputs": [],
   "source": [
    "df.drop([\"Restaurant_name\",\"Address\", \"Online_order\",\"Book_table\",\"Book_table_rating\",\"Votes\",\"Location\",\"Dish_liked\",\"Dish_liked_input\",\"Cuisines\",\"Approx_cost_for_two\",\"Experience_rating\",\"Service_type\",\"Listed_city\"], axis=1, inplace=True)"
   ]
  },
  {
   "cell_type": "code",
   "execution_count": 3,
   "id": "b80e9907",
   "metadata": {},
   "outputs": [
    {
     "data": {
      "application/vnd.microsoft.datawrangler.viewer.v0+json": {
       "columns": [
        {
         "name": "index",
         "rawType": "int64",
         "type": "integer"
        },
        {
         "name": "Unnamed: 0",
         "rawType": "int64",
         "type": "integer"
        },
        {
         "name": "Rest_type",
         "rawType": "object",
         "type": "string"
        }
       ],
       "ref": "13ca7520-03c2-43b5-b79a-b6407979947f",
       "rows": [
        [
         "0",
         "0",
         "Casual Dining"
        ],
        [
         "1",
         "1",
         "Casual Dining"
        ],
        [
         "2",
         "2",
         "Cafe, Casual Dining"
        ],
        [
         "3",
         "3",
         "Quick Bites"
        ],
        [
         "4",
         "4",
         "Casual Dining"
        ]
       ],
       "shape": {
        "columns": 2,
        "rows": 5
       }
      },
      "text/html": [
       "<div>\n",
       "<style scoped>\n",
       "    .dataframe tbody tr th:only-of-type {\n",
       "        vertical-align: middle;\n",
       "    }\n",
       "\n",
       "    .dataframe tbody tr th {\n",
       "        vertical-align: top;\n",
       "    }\n",
       "\n",
       "    .dataframe thead th {\n",
       "        text-align: right;\n",
       "    }\n",
       "</style>\n",
       "<table border=\"1\" class=\"dataframe\">\n",
       "  <thead>\n",
       "    <tr style=\"text-align: right;\">\n",
       "      <th></th>\n",
       "      <th>Unnamed: 0</th>\n",
       "      <th>Rest_type</th>\n",
       "    </tr>\n",
       "  </thead>\n",
       "  <tbody>\n",
       "    <tr>\n",
       "      <th>0</th>\n",
       "      <td>0</td>\n",
       "      <td>Casual Dining</td>\n",
       "    </tr>\n",
       "    <tr>\n",
       "      <th>1</th>\n",
       "      <td>1</td>\n",
       "      <td>Casual Dining</td>\n",
       "    </tr>\n",
       "    <tr>\n",
       "      <th>2</th>\n",
       "      <td>2</td>\n",
       "      <td>Cafe, Casual Dining</td>\n",
       "    </tr>\n",
       "    <tr>\n",
       "      <th>3</th>\n",
       "      <td>3</td>\n",
       "      <td>Quick Bites</td>\n",
       "    </tr>\n",
       "    <tr>\n",
       "      <th>4</th>\n",
       "      <td>4</td>\n",
       "      <td>Casual Dining</td>\n",
       "    </tr>\n",
       "  </tbody>\n",
       "</table>\n",
       "</div>"
      ],
      "text/plain": [
       "   Unnamed: 0            Rest_type\n",
       "0           0        Casual Dining\n",
       "1           1        Casual Dining\n",
       "2           2  Cafe, Casual Dining\n",
       "3           3          Quick Bites\n",
       "4           4        Casual Dining"
      ]
     },
     "execution_count": 3,
     "metadata": {},
     "output_type": "execute_result"
    }
   ],
   "source": [
    "df.head()"
   ]
  },
  {
   "cell_type": "code",
   "execution_count": 4,
   "id": "66be3e48",
   "metadata": {},
   "outputs": [],
   "source": [
    "df['Rest_type'] = df['Rest_type'].str.split(',')"
   ]
  },
  {
   "cell_type": "code",
   "execution_count": 5,
   "id": "84019a26",
   "metadata": {},
   "outputs": [],
   "source": [
    "df = df.explode('Rest_type')"
   ]
  },
  {
   "cell_type": "code",
   "execution_count": 6,
   "id": "6d79f1b4",
   "metadata": {},
   "outputs": [
    {
     "data": {
      "application/vnd.microsoft.datawrangler.viewer.v0+json": {
       "columns": [
        {
         "name": "index",
         "rawType": "int64",
         "type": "integer"
        },
        {
         "name": "Unnamed: 0",
         "rawType": "int64",
         "type": "integer"
        },
        {
         "name": "Rest_type",
         "rawType": "object",
         "type": "string"
        }
       ],
       "ref": "b50945d8-db71-4615-a9eb-7c2ea1d1f644",
       "rows": [
        [
         "0",
         "0",
         "Casual Dining"
        ],
        [
         "1",
         "1",
         "Casual Dining"
        ],
        [
         "2",
         "2",
         "Cafe"
        ],
        [
         "2",
         "2",
         " Casual Dining"
        ],
        [
         "3",
         "3",
         "Quick Bites"
        ]
       ],
       "shape": {
        "columns": 2,
        "rows": 5
       }
      },
      "text/html": [
       "<div>\n",
       "<style scoped>\n",
       "    .dataframe tbody tr th:only-of-type {\n",
       "        vertical-align: middle;\n",
       "    }\n",
       "\n",
       "    .dataframe tbody tr th {\n",
       "        vertical-align: top;\n",
       "    }\n",
       "\n",
       "    .dataframe thead th {\n",
       "        text-align: right;\n",
       "    }\n",
       "</style>\n",
       "<table border=\"1\" class=\"dataframe\">\n",
       "  <thead>\n",
       "    <tr style=\"text-align: right;\">\n",
       "      <th></th>\n",
       "      <th>Unnamed: 0</th>\n",
       "      <th>Rest_type</th>\n",
       "    </tr>\n",
       "  </thead>\n",
       "  <tbody>\n",
       "    <tr>\n",
       "      <th>0</th>\n",
       "      <td>0</td>\n",
       "      <td>Casual Dining</td>\n",
       "    </tr>\n",
       "    <tr>\n",
       "      <th>1</th>\n",
       "      <td>1</td>\n",
       "      <td>Casual Dining</td>\n",
       "    </tr>\n",
       "    <tr>\n",
       "      <th>2</th>\n",
       "      <td>2</td>\n",
       "      <td>Cafe</td>\n",
       "    </tr>\n",
       "    <tr>\n",
       "      <th>2</th>\n",
       "      <td>2</td>\n",
       "      <td>Casual Dining</td>\n",
       "    </tr>\n",
       "    <tr>\n",
       "      <th>3</th>\n",
       "      <td>3</td>\n",
       "      <td>Quick Bites</td>\n",
       "    </tr>\n",
       "  </tbody>\n",
       "</table>\n",
       "</div>"
      ],
      "text/plain": [
       "   Unnamed: 0       Rest_type\n",
       "0           0   Casual Dining\n",
       "1           1   Casual Dining\n",
       "2           2            Cafe\n",
       "2           2   Casual Dining\n",
       "3           3     Quick Bites"
      ]
     },
     "execution_count": 6,
     "metadata": {},
     "output_type": "execute_result"
    }
   ],
   "source": [
    "df.head(5)"
   ]
  },
  {
   "cell_type": "code",
   "execution_count": 7,
   "id": "cadc4560",
   "metadata": {},
   "outputs": [],
   "source": [
    "df['Rest_type'] = df['Rest_type'].str.strip()"
   ]
  },
  {
   "cell_type": "code",
   "execution_count": 8,
   "id": "e2e95e9d",
   "metadata": {},
   "outputs": [
    {
     "data": {
      "application/vnd.microsoft.datawrangler.viewer.v0+json": {
       "columns": [
        {
         "name": "index",
         "rawType": "int64",
         "type": "integer"
        },
        {
         "name": "Unnamed: 0",
         "rawType": "int64",
         "type": "integer"
        },
        {
         "name": "Rest_type",
         "rawType": "object",
         "type": "string"
        }
       ],
       "ref": "46daa6a8-7b53-4c9c-94b8-627eece98e40",
       "rows": [
        [
         "0",
         "0",
         "Casual Dining"
        ],
        [
         "1",
         "1",
         "Casual Dining"
        ],
        [
         "2",
         "2",
         "Cafe"
        ],
        [
         "2",
         "2",
         "Casual Dining"
        ],
        [
         "3",
         "3",
         "Quick Bites"
        ]
       ],
       "shape": {
        "columns": 2,
        "rows": 5
       }
      },
      "text/html": [
       "<div>\n",
       "<style scoped>\n",
       "    .dataframe tbody tr th:only-of-type {\n",
       "        vertical-align: middle;\n",
       "    }\n",
       "\n",
       "    .dataframe tbody tr th {\n",
       "        vertical-align: top;\n",
       "    }\n",
       "\n",
       "    .dataframe thead th {\n",
       "        text-align: right;\n",
       "    }\n",
       "</style>\n",
       "<table border=\"1\" class=\"dataframe\">\n",
       "  <thead>\n",
       "    <tr style=\"text-align: right;\">\n",
       "      <th></th>\n",
       "      <th>Unnamed: 0</th>\n",
       "      <th>Rest_type</th>\n",
       "    </tr>\n",
       "  </thead>\n",
       "  <tbody>\n",
       "    <tr>\n",
       "      <th>0</th>\n",
       "      <td>0</td>\n",
       "      <td>Casual Dining</td>\n",
       "    </tr>\n",
       "    <tr>\n",
       "      <th>1</th>\n",
       "      <td>1</td>\n",
       "      <td>Casual Dining</td>\n",
       "    </tr>\n",
       "    <tr>\n",
       "      <th>2</th>\n",
       "      <td>2</td>\n",
       "      <td>Cafe</td>\n",
       "    </tr>\n",
       "    <tr>\n",
       "      <th>2</th>\n",
       "      <td>2</td>\n",
       "      <td>Casual Dining</td>\n",
       "    </tr>\n",
       "    <tr>\n",
       "      <th>3</th>\n",
       "      <td>3</td>\n",
       "      <td>Quick Bites</td>\n",
       "    </tr>\n",
       "  </tbody>\n",
       "</table>\n",
       "</div>"
      ],
      "text/plain": [
       "   Unnamed: 0      Rest_type\n",
       "0           0  Casual Dining\n",
       "1           1  Casual Dining\n",
       "2           2           Cafe\n",
       "2           2  Casual Dining\n",
       "3           3    Quick Bites"
      ]
     },
     "execution_count": 8,
     "metadata": {},
     "output_type": "execute_result"
    }
   ],
   "source": [
    "df.head(5)"
   ]
  },
  {
   "cell_type": "code",
   "execution_count": 9,
   "id": "ac6870d7",
   "metadata": {},
   "outputs": [],
   "source": [
    "df['Rest_type'] = df['Rest_type'].str.replace(',', '', regex=False).str.strip()"
   ]
  },
  {
   "cell_type": "code",
   "execution_count": 10,
   "id": "166efd7a",
   "metadata": {},
   "outputs": [
    {
     "data": {
      "application/vnd.microsoft.datawrangler.viewer.v0+json": {
       "columns": [
        {
         "name": "index",
         "rawType": "int64",
         "type": "integer"
        },
        {
         "name": "Unnamed: 0",
         "rawType": "int64",
         "type": "integer"
        },
        {
         "name": "Rest_type",
         "rawType": "object",
         "type": "string"
        }
       ],
       "ref": "f10f9a8c-e8a9-4cd9-975c-2f5f941c5899",
       "rows": [
        [
         "0",
         "0",
         "Casual Dining"
        ],
        [
         "1",
         "1",
         "Casual Dining"
        ],
        [
         "2",
         "2",
         "Cafe"
        ],
        [
         "2",
         "2",
         "Casual Dining"
        ],
        [
         "3",
         "3",
         "Quick Bites"
        ],
        [
         "4",
         "4",
         "Casual Dining"
        ],
        [
         "5",
         "5",
         "Casual Dining"
        ],
        [
         "6",
         "6",
         "Casual Dining"
        ],
        [
         "7",
         "7",
         "Casual Dining"
        ],
        [
         "7",
         "7",
         "Cafe"
        ]
       ],
       "shape": {
        "columns": 2,
        "rows": 10
       }
      },
      "text/html": [
       "<div>\n",
       "<style scoped>\n",
       "    .dataframe tbody tr th:only-of-type {\n",
       "        vertical-align: middle;\n",
       "    }\n",
       "\n",
       "    .dataframe tbody tr th {\n",
       "        vertical-align: top;\n",
       "    }\n",
       "\n",
       "    .dataframe thead th {\n",
       "        text-align: right;\n",
       "    }\n",
       "</style>\n",
       "<table border=\"1\" class=\"dataframe\">\n",
       "  <thead>\n",
       "    <tr style=\"text-align: right;\">\n",
       "      <th></th>\n",
       "      <th>Unnamed: 0</th>\n",
       "      <th>Rest_type</th>\n",
       "    </tr>\n",
       "  </thead>\n",
       "  <tbody>\n",
       "    <tr>\n",
       "      <th>0</th>\n",
       "      <td>0</td>\n",
       "      <td>Casual Dining</td>\n",
       "    </tr>\n",
       "    <tr>\n",
       "      <th>1</th>\n",
       "      <td>1</td>\n",
       "      <td>Casual Dining</td>\n",
       "    </tr>\n",
       "    <tr>\n",
       "      <th>2</th>\n",
       "      <td>2</td>\n",
       "      <td>Cafe</td>\n",
       "    </tr>\n",
       "    <tr>\n",
       "      <th>2</th>\n",
       "      <td>2</td>\n",
       "      <td>Casual Dining</td>\n",
       "    </tr>\n",
       "    <tr>\n",
       "      <th>3</th>\n",
       "      <td>3</td>\n",
       "      <td>Quick Bites</td>\n",
       "    </tr>\n",
       "    <tr>\n",
       "      <th>4</th>\n",
       "      <td>4</td>\n",
       "      <td>Casual Dining</td>\n",
       "    </tr>\n",
       "    <tr>\n",
       "      <th>5</th>\n",
       "      <td>5</td>\n",
       "      <td>Casual Dining</td>\n",
       "    </tr>\n",
       "    <tr>\n",
       "      <th>6</th>\n",
       "      <td>6</td>\n",
       "      <td>Casual Dining</td>\n",
       "    </tr>\n",
       "    <tr>\n",
       "      <th>7</th>\n",
       "      <td>7</td>\n",
       "      <td>Casual Dining</td>\n",
       "    </tr>\n",
       "    <tr>\n",
       "      <th>7</th>\n",
       "      <td>7</td>\n",
       "      <td>Cafe</td>\n",
       "    </tr>\n",
       "  </tbody>\n",
       "</table>\n",
       "</div>"
      ],
      "text/plain": [
       "   Unnamed: 0      Rest_type\n",
       "0           0  Casual Dining\n",
       "1           1  Casual Dining\n",
       "2           2           Cafe\n",
       "2           2  Casual Dining\n",
       "3           3    Quick Bites\n",
       "4           4  Casual Dining\n",
       "5           5  Casual Dining\n",
       "6           6  Casual Dining\n",
       "7           7  Casual Dining\n",
       "7           7           Cafe"
      ]
     },
     "execution_count": 10,
     "metadata": {},
     "output_type": "execute_result"
    }
   ],
   "source": [
    "df.head(10)"
   ]
  },
  {
   "cell_type": "code",
   "execution_count": 11,
   "id": "7e631916",
   "metadata": {},
   "outputs": [],
   "source": [
    "df.to_csv(\"Rest_type.csv\", index=False)"
   ]
  }
 ],
 "metadata": {
  "kernelspec": {
   "display_name": "virtual_environment",
   "language": "python",
   "name": "python3"
  },
  "language_info": {
   "codemirror_mode": {
    "name": "ipython",
    "version": 3
   },
   "file_extension": ".py",
   "mimetype": "text/x-python",
   "name": "python",
   "nbconvert_exporter": "python",
   "pygments_lexer": "ipython3",
   "version": "3.13.3"
  }
 },
 "nbformat": 4,
 "nbformat_minor": 5
}

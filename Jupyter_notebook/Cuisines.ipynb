{
 "cells": [
  {
   "cell_type": "markdown",
   "id": "b5457316",
   "metadata": {},
   "source": [
    "### Seperation and explosion of the \"Cuisines\" column"
   ]
  },
  {
   "cell_type": "markdown",
   "id": "e9f68196",
   "metadata": {},
   "source": [
    "This notebook focuses on selecting and exploding the \"Cuisines\" column. By exploding this column, each cuisine type is analyzed individually, enabling more granular insights into cuisines trends and customer preferences"
   ]
  },
  {
   "cell_type": "code",
   "execution_count": null,
   "id": "e13ad619",
   "metadata": {},
   "outputs": [],
   "source": [
    "import pandas as pd\n",
    "import numpy as np\n",
    "import re\n",
    "\n",
    "df = pd.read_csv(r\"C:\\Users\\MICHAEL KODUA BOAMAH\\Desktop\\Zomato_data_cleaning\\Dataset\\Cleaned_dataset.csv\")"
   ]
  },
  {
   "cell_type": "code",
   "execution_count": 22,
   "id": "a5268af3",
   "metadata": {},
   "outputs": [],
   "source": [
    "df.drop([\"Restaurant_name\",\"Address\", \"Online_order\",\"Book_table\",\"Book_table_rating\",\"Votes\",\"Location\",\"Rest_type\",\"Dish_liked_input\",\"Dish_liked\",\"Approx_cost_for_two\",\"Experience_rating\",\"Service_type\",\"Listed_city\"], axis=1, inplace=True)"
   ]
  },
  {
   "cell_type": "code",
   "execution_count": 23,
   "id": "eff27a55",
   "metadata": {},
   "outputs": [
    {
     "data": {
      "application/vnd.microsoft.datawrangler.viewer.v0+json": {
       "columns": [
        {
         "name": "index",
         "rawType": "int64",
         "type": "integer"
        },
        {
         "name": "Unnamed: 0",
         "rawType": "int64",
         "type": "integer"
        },
        {
         "name": "Cuisines",
         "rawType": "object",
         "type": "string"
        }
       ],
       "ref": "b23befb5-8b1c-4fef-b13b-e0a2e0b4be9e",
       "rows": [
        [
         "0",
         "0",
         "North Indian, Mughlai, Chinese"
        ],
        [
         "1",
         "1",
         "Chinese, North Indian, Thai"
        ]
       ],
       "shape": {
        "columns": 2,
        "rows": 2
       }
      },
      "text/html": [
       "<div>\n",
       "<style scoped>\n",
       "    .dataframe tbody tr th:only-of-type {\n",
       "        vertical-align: middle;\n",
       "    }\n",
       "\n",
       "    .dataframe tbody tr th {\n",
       "        vertical-align: top;\n",
       "    }\n",
       "\n",
       "    .dataframe thead th {\n",
       "        text-align: right;\n",
       "    }\n",
       "</style>\n",
       "<table border=\"1\" class=\"dataframe\">\n",
       "  <thead>\n",
       "    <tr style=\"text-align: right;\">\n",
       "      <th></th>\n",
       "      <th>Unnamed: 0</th>\n",
       "      <th>Cuisines</th>\n",
       "    </tr>\n",
       "  </thead>\n",
       "  <tbody>\n",
       "    <tr>\n",
       "      <th>0</th>\n",
       "      <td>0</td>\n",
       "      <td>North Indian, Mughlai, Chinese</td>\n",
       "    </tr>\n",
       "    <tr>\n",
       "      <th>1</th>\n",
       "      <td>1</td>\n",
       "      <td>Chinese, North Indian, Thai</td>\n",
       "    </tr>\n",
       "  </tbody>\n",
       "</table>\n",
       "</div>"
      ],
      "text/plain": [
       "   Unnamed: 0                        Cuisines\n",
       "0           0  North Indian, Mughlai, Chinese\n",
       "1           1     Chinese, North Indian, Thai"
      ]
     },
     "execution_count": 23,
     "metadata": {},
     "output_type": "execute_result"
    }
   ],
   "source": [
    "df.head(2)"
   ]
  },
  {
   "cell_type": "code",
   "execution_count": 24,
   "id": "ec0963db",
   "metadata": {},
   "outputs": [],
   "source": [
    "df['Cuisines'] = df['Cuisines'].str.split(',')"
   ]
  },
  {
   "cell_type": "code",
   "execution_count": 25,
   "id": "f4d511a9",
   "metadata": {},
   "outputs": [],
   "source": [
    "df = df.explode('Cuisines')"
   ]
  },
  {
   "cell_type": "code",
   "execution_count": 26,
   "id": "40ff153d",
   "metadata": {},
   "outputs": [
    {
     "data": {
      "application/vnd.microsoft.datawrangler.viewer.v0+json": {
       "columns": [
        {
         "name": "index",
         "rawType": "int64",
         "type": "integer"
        },
        {
         "name": "Unnamed: 0",
         "rawType": "int64",
         "type": "integer"
        },
        {
         "name": "Cuisines",
         "rawType": "object",
         "type": "string"
        }
       ],
       "ref": "74ea5b27-3f68-4ba0-b9f8-7dbf239f4a58",
       "rows": [
        [
         "0",
         "0",
         "North Indian"
        ],
        [
         "0",
         "0",
         " Mughlai"
        ]
       ],
       "shape": {
        "columns": 2,
        "rows": 2
       }
      },
      "text/html": [
       "<div>\n",
       "<style scoped>\n",
       "    .dataframe tbody tr th:only-of-type {\n",
       "        vertical-align: middle;\n",
       "    }\n",
       "\n",
       "    .dataframe tbody tr th {\n",
       "        vertical-align: top;\n",
       "    }\n",
       "\n",
       "    .dataframe thead th {\n",
       "        text-align: right;\n",
       "    }\n",
       "</style>\n",
       "<table border=\"1\" class=\"dataframe\">\n",
       "  <thead>\n",
       "    <tr style=\"text-align: right;\">\n",
       "      <th></th>\n",
       "      <th>Unnamed: 0</th>\n",
       "      <th>Cuisines</th>\n",
       "    </tr>\n",
       "  </thead>\n",
       "  <tbody>\n",
       "    <tr>\n",
       "      <th>0</th>\n",
       "      <td>0</td>\n",
       "      <td>North Indian</td>\n",
       "    </tr>\n",
       "    <tr>\n",
       "      <th>0</th>\n",
       "      <td>0</td>\n",
       "      <td>Mughlai</td>\n",
       "    </tr>\n",
       "  </tbody>\n",
       "</table>\n",
       "</div>"
      ],
      "text/plain": [
       "   Unnamed: 0      Cuisines\n",
       "0           0  North Indian\n",
       "0           0       Mughlai"
      ]
     },
     "execution_count": 26,
     "metadata": {},
     "output_type": "execute_result"
    }
   ],
   "source": [
    "df.head(2)"
   ]
  },
  {
   "cell_type": "code",
   "execution_count": 27,
   "id": "20f07ee8",
   "metadata": {},
   "outputs": [],
   "source": [
    "df['Cuisines'] = df['Cuisines'].str.replace(',', '', regex=False).str.strip()"
   ]
  },
  {
   "cell_type": "code",
   "execution_count": 28,
   "id": "b6cf285a",
   "metadata": {},
   "outputs": [
    {
     "data": {
      "application/vnd.microsoft.datawrangler.viewer.v0+json": {
       "columns": [
        {
         "name": "index",
         "rawType": "int64",
         "type": "integer"
        },
        {
         "name": "Unnamed: 0",
         "rawType": "int64",
         "type": "integer"
        },
        {
         "name": "Cuisines",
         "rawType": "object",
         "type": "string"
        }
       ],
       "ref": "43f04260-9ac6-4367-825e-8af651cde5dc",
       "rows": [
        [
         "0",
         "0",
         "North Indian"
        ],
        [
         "0",
         "0",
         "Mughlai"
        ],
        [
         "0",
         "0",
         "Chinese"
        ],
        [
         "1",
         "1",
         "Chinese"
        ],
        [
         "1",
         "1",
         "North Indian"
        ],
        [
         "1",
         "1",
         "Thai"
        ],
        [
         "2",
         "2",
         "Cafe"
        ],
        [
         "2",
         "2",
         "Mexican"
        ],
        [
         "2",
         "2",
         "Italian"
        ],
        [
         "3",
         "3",
         "South Indian"
        ]
       ],
       "shape": {
        "columns": 2,
        "rows": 10
       }
      },
      "text/html": [
       "<div>\n",
       "<style scoped>\n",
       "    .dataframe tbody tr th:only-of-type {\n",
       "        vertical-align: middle;\n",
       "    }\n",
       "\n",
       "    .dataframe tbody tr th {\n",
       "        vertical-align: top;\n",
       "    }\n",
       "\n",
       "    .dataframe thead th {\n",
       "        text-align: right;\n",
       "    }\n",
       "</style>\n",
       "<table border=\"1\" class=\"dataframe\">\n",
       "  <thead>\n",
       "    <tr style=\"text-align: right;\">\n",
       "      <th></th>\n",
       "      <th>Unnamed: 0</th>\n",
       "      <th>Cuisines</th>\n",
       "    </tr>\n",
       "  </thead>\n",
       "  <tbody>\n",
       "    <tr>\n",
       "      <th>0</th>\n",
       "      <td>0</td>\n",
       "      <td>North Indian</td>\n",
       "    </tr>\n",
       "    <tr>\n",
       "      <th>0</th>\n",
       "      <td>0</td>\n",
       "      <td>Mughlai</td>\n",
       "    </tr>\n",
       "    <tr>\n",
       "      <th>0</th>\n",
       "      <td>0</td>\n",
       "      <td>Chinese</td>\n",
       "    </tr>\n",
       "    <tr>\n",
       "      <th>1</th>\n",
       "      <td>1</td>\n",
       "      <td>Chinese</td>\n",
       "    </tr>\n",
       "    <tr>\n",
       "      <th>1</th>\n",
       "      <td>1</td>\n",
       "      <td>North Indian</td>\n",
       "    </tr>\n",
       "    <tr>\n",
       "      <th>1</th>\n",
       "      <td>1</td>\n",
       "      <td>Thai</td>\n",
       "    </tr>\n",
       "    <tr>\n",
       "      <th>2</th>\n",
       "      <td>2</td>\n",
       "      <td>Cafe</td>\n",
       "    </tr>\n",
       "    <tr>\n",
       "      <th>2</th>\n",
       "      <td>2</td>\n",
       "      <td>Mexican</td>\n",
       "    </tr>\n",
       "    <tr>\n",
       "      <th>2</th>\n",
       "      <td>2</td>\n",
       "      <td>Italian</td>\n",
       "    </tr>\n",
       "    <tr>\n",
       "      <th>3</th>\n",
       "      <td>3</td>\n",
       "      <td>South Indian</td>\n",
       "    </tr>\n",
       "  </tbody>\n",
       "</table>\n",
       "</div>"
      ],
      "text/plain": [
       "   Unnamed: 0      Cuisines\n",
       "0           0  North Indian\n",
       "0           0       Mughlai\n",
       "0           0       Chinese\n",
       "1           1       Chinese\n",
       "1           1  North Indian\n",
       "1           1          Thai\n",
       "2           2          Cafe\n",
       "2           2       Mexican\n",
       "2           2       Italian\n",
       "3           3  South Indian"
      ]
     },
     "execution_count": 28,
     "metadata": {},
     "output_type": "execute_result"
    }
   ],
   "source": [
    "df.head(10)"
   ]
  },
  {
   "cell_type": "code",
   "execution_count": 29,
   "id": "3f5c4a74",
   "metadata": {},
   "outputs": [
    {
     "data": {
      "text/plain": [
       "<bound method NDFrame.describe of        Unnamed: 0      Cuisines\n",
       "0               0  North Indian\n",
       "0               0       Mughlai\n",
       "0               0       Chinese\n",
       "1               1       Chinese\n",
       "1               1  North Indian\n",
       "...           ...           ...\n",
       "51584       51714   Finger Food\n",
       "51585       51715   Finger Food\n",
       "51586       51716   Finger Food\n",
       "51586       51716  North Indian\n",
       "51586       51716   Continental\n",
       "\n",
       "[126583 rows x 2 columns]>"
      ]
     },
     "execution_count": 29,
     "metadata": {},
     "output_type": "execute_result"
    }
   ],
   "source": [
    "df.describe"
   ]
  },
  {
   "cell_type": "code",
   "execution_count": 30,
   "id": "e2c77e5e",
   "metadata": {},
   "outputs": [],
   "source": [
    "df.to_csv(\"Cuisines.csv\", index=False)"
   ]
  }
 ],
 "metadata": {
  "kernelspec": {
   "display_name": "virtual_environment",
   "language": "python",
   "name": "python3"
  },
  "language_info": {
   "codemirror_mode": {
    "name": "ipython",
    "version": 3
   },
   "file_extension": ".py",
   "mimetype": "text/x-python",
   "name": "python",
   "nbconvert_exporter": "python",
   "pygments_lexer": "ipython3",
   "version": "3.13.3"
  }
 },
 "nbformat": 4,
 "nbformat_minor": 5
}
